{
 "cells": [
  {
   "cell_type": "code",
   "execution_count": 1,
   "metadata": {},
   "outputs": [
    {
     "name": "stderr",
     "output_type": "stream",
     "text": [
      "/home/jmlee/.conda/envs/encoding/lib/python3.7/site-packages/nilearn/glm/__init__.py:56: FutureWarning: The nilearn.glm module is experimental. It may change in any future release of Nilearn.\n",
      "  'It may change in any future release of Nilearn.', FutureWarning)\n"
     ]
    }
   ],
   "source": [
    "import nibabel as nib\n",
    "from nilearn import glm\n",
    "import numpy as np\n",
    "import pandas as pd \n",
    "import matplotlib.pyplot as plt \n",
    "import h5py\n",
    "import scipy\n",
    "from scipy.io import loadmat \n",
    "import os\n",
    "import glob"
   ]
  },
  {
   "cell_type": "markdown",
   "metadata": {},
   "source": [
    "# Concat CNN activation time series in the 1st layer across movie segments"
   ]
  },
  {
   "cell_type": "code",
   "execution_count": 18,
   "metadata": {},
   "outputs": [],
   "source": [
    "layername = ['/conv1','/conv2','/conv3','/conv4','/conv5','/fc6','/fc7','/fc8']\n",
    "dataroot = '/local_raid3/03_user/jungmin/02_data/Encoding_decoding/encoding_analyzing/02_Goal-Driven-DL/01_NeuralEncodingDecoding/sourcecode/source_code_v2/source_code_v2/feature_extracted/'"
   ]
  },
  {
   "cell_type": "markdown",
   "metadata": {},
   "source": [
    "Training movies"
   ]
  },
  {
   "cell_type": "code",
   "execution_count": 19,
   "metadata": {},
   "outputs": [
    {
     "name": "stdout",
     "output_type": "stream",
     "text": [
      "seg: 1\n",
      "lay_feat:  (55, 55, 96, 240)\n",
      "dim: (55, 55, 96, 240)\n",
      "Nf: 240\n",
      "[  55   55   96 4320]\n",
      "lay_feat_concatenated: (55, 55, 96, 4320)\n"
     ]
    },
    {
     "name": "stderr",
     "output_type": "stream",
     "text": [
      "/home/jmlee/.conda/envs/encoding/lib/python3.7/site-packages/ipykernel_launcher.py:8: H5pyDeprecationWarning: dataset.value has been deprecated. Use dataset[()] instead.\n",
      "  \n"
     ]
    },
    {
     "name": "stdout",
     "output_type": "stream",
     "text": [
      "(55, 55, 96, 240)\n",
      "seg: 2\n",
      "lay_feat:  (55, 55, 96, 240)\n",
      "dim: (55, 55, 96, 240)\n",
      "Nf: 240\n",
      "(55, 55, 96, 240)\n",
      "seg: 3\n",
      "lay_feat:  (55, 55, 96, 240)\n",
      "dim: (55, 55, 96, 240)\n",
      "Nf: 240\n",
      "(55, 55, 96, 240)\n",
      "seg: 4\n",
      "lay_feat:  (55, 55, 96, 240)\n",
      "dim: (55, 55, 96, 240)\n",
      "Nf: 240\n",
      "(55, 55, 96, 240)\n",
      "seg: 5\n",
      "lay_feat:  (55, 55, 96, 240)\n",
      "dim: (55, 55, 96, 240)\n",
      "Nf: 240\n",
      "(55, 55, 96, 240)\n",
      "seg: 6\n",
      "lay_feat:  (55, 55, 96, 240)\n",
      "dim: (55, 55, 96, 240)\n",
      "Nf: 240\n",
      "(55, 55, 96, 240)\n",
      "seg: 7\n",
      "lay_feat:  (55, 55, 96, 240)\n",
      "dim: (55, 55, 96, 240)\n",
      "Nf: 240\n",
      "(55, 55, 96, 240)\n",
      "seg: 8\n",
      "lay_feat:  (55, 55, 96, 240)\n",
      "dim: (55, 55, 96, 240)\n",
      "Nf: 240\n",
      "(55, 55, 96, 240)\n",
      "seg: 9\n",
      "lay_feat:  (55, 55, 96, 240)\n",
      "dim: (55, 55, 96, 240)\n",
      "Nf: 240\n",
      "(55, 55, 96, 240)\n",
      "seg: 10\n",
      "lay_feat:  (55, 55, 96, 240)\n",
      "dim: (55, 55, 96, 240)\n",
      "Nf: 240\n",
      "(55, 55, 96, 240)\n",
      "seg: 11\n",
      "lay_feat:  (55, 55, 96, 240)\n",
      "dim: (55, 55, 96, 240)\n",
      "Nf: 240\n",
      "(55, 55, 96, 240)\n",
      "seg: 12\n",
      "lay_feat:  (55, 55, 96, 240)\n",
      "dim: (55, 55, 96, 240)\n",
      "Nf: 240\n",
      "(55, 55, 96, 240)\n",
      "seg: 13\n",
      "lay_feat:  (55, 55, 96, 240)\n",
      "dim: (55, 55, 96, 240)\n",
      "Nf: 240\n",
      "(55, 55, 96, 240)\n",
      "seg: 14\n",
      "lay_feat:  (55, 55, 96, 240)\n",
      "dim: (55, 55, 96, 240)\n",
      "Nf: 240\n",
      "(55, 55, 96, 240)\n",
      "seg: 15\n",
      "lay_feat:  (55, 55, 96, 240)\n",
      "dim: (55, 55, 96, 240)\n",
      "Nf: 240\n",
      "(55, 55, 96, 240)\n",
      "seg: 16\n",
      "lay_feat:  (55, 55, 96, 240)\n",
      "dim: (55, 55, 96, 240)\n",
      "Nf: 240\n",
      "(55, 55, 96, 240)\n",
      "seg: 17\n",
      "lay_feat:  (55, 55, 96, 240)\n",
      "dim: (55, 55, 96, 240)\n",
      "Nf: 240\n",
      "(55, 55, 96, 240)\n",
      "seg: 18\n",
      "lay_feat:  (55, 55, 96, 240)\n",
      "dim: (55, 55, 96, 240)\n",
      "Nf: 240\n",
      "(55, 55, 96, 240)\n"
     ]
    }
   ],
   "source": [
    "lay = 0\n",
    "\n",
    "for seg in range(1,19):\n",
    "    print('seg:' , str(seg))\n",
    "    secpath = (dataroot + 'AlexNet_feature_maps_processed_seg'+ str(seg) + '.h5')\n",
    "    lay_feat = h5py.File(secpath, 'r')\n",
    "    lay_feat = lay_feat[layername[lay] + '/data']\n",
    "    lay_feat = lay_feat.value\n",
    "    lay_feat = np.transpose(lay_feat,(3,2,1,0))\n",
    "    print('lay_feat: ',lay_feat.shape)\n",
    "    dim = lay_feat.shape\n",
    "    print('dim:', dim)\n",
    "    Nf = dim[-1]\n",
    "    print('Nf:', Nf)\n",
    "    if seg == 1:\n",
    "        dim_array = np.asarray(dim)\n",
    "        dim_array[-1] = Nf*18\n",
    "        print(dim_array)\n",
    "        lay_feat_concatenated = np.zeros(dim_array[0:4])\n",
    "        print('lay_feat_concatenated:',lay_feat_concatenated.shape)\n",
    "    lay_feat_concatenated[:,:,:,(seg-1)*Nf+0:seg*Nf] = lay_feat\n",
    "    print(lay_feat.shape)"
   ]
  },
  {
   "cell_type": "code",
   "execution_count": 87,
   "metadata": {},
   "outputs": [],
   "source": [
    "lay_feat_load = scipy.io.loadmat('/local_raid3/03_user/jungmin/02_data/Encoding_decoding/encoding_analyzing/02_Goal-Driven-DL/01_NeuralEncodingDecoding/sourcecode/source_code_v2/source_code_v2/lay_feat_seg1.mat')"
   ]
  },
  {
   "cell_type": "code",
   "execution_count": 131,
   "metadata": {},
   "outputs": [
    {
     "data": {
      "text/plain": [
       "(55, 55, 96, 240)"
      ]
     },
     "execution_count": 131,
     "metadata": {},
     "output_type": "execute_result"
    }
   ],
   "source": [
    "a.shape"
   ]
  },
  {
   "cell_type": "code",
   "execution_count": 132,
   "metadata": {},
   "outputs": [
    {
     "data": {
      "text/plain": [
       "(55, 55, 240, 96)"
      ]
     },
     "execution_count": 132,
     "metadata": {},
     "output_type": "execute_result"
    }
   ],
   "source": [
    "filters=np.transpose(a, (0,1,3,2))\n",
    "filters.shape"
   ]
  },
  {
   "cell_type": "code",
   "execution_count": null,
   "metadata": {},
   "outputs": [],
   "source": [
    "f = filters[:,:,:,]"
   ]
  },
  {
   "cell_type": "markdown",
   "metadata": {},
   "source": [
    "# plot"
   ]
  },
  {
   "cell_type": "code",
   "execution_count": 150,
   "metadata": {},
   "outputs": [
    {
     "data": {
      "image/png": "[encoded data removed]",
      "text/plain": [
       "<Figure size 360x360 with 1 Axes>"
      ]
     },
     "metadata": {
      "needs_background": "light"
     },
     "output_type": "display_data"
    }
   ],
   "source": [
    "ix = 1\n",
    "fig = plt.figure(figsize=(5,5))\n",
    "\n",
    "for i in range(1):\n",
    "    f = filters[:,:,:,i]\n",
    "    # plt.imshow(f[:,:,:,i])\n",
    "for j in range(1):\n",
    "    plt.subplot(1,1,ix)\n",
    "    plt.imshow(f[:,:,j], cmap='gray')\n",
    "    # print(f[:,:,j].shape)\n",
    "    ix+=1\n",
    "plt.show()\n"
   ]
  },
  {
   "cell_type": "code",
   "execution_count": 137,
   "metadata": {},
   "outputs": [
    {
     "ename": "IndexError",
     "evalue": "index 96 is out of bounds for axis 3 with size 96",
     "output_type": "error",
     "traceback": [
      "\u001b[0;31m---------------------------------------------------------------------------\u001b[0m",
      "\u001b[0;31mIndexError\u001b[0m                                Traceback (most recent call last)",
      "\u001b[0;32m/tmp/ipykernel_1071660/3209667275.py\u001b[0m in \u001b[0;36m<module>\u001b[0;34m\u001b[0m\n\u001b[1;32m      2\u001b[0m \u001b[0mix\u001b[0m \u001b[0;34m=\u001b[0m \u001b[0;36m1\u001b[0m\u001b[0;34m\u001b[0m\u001b[0m\n\u001b[1;32m      3\u001b[0m \u001b[0mfig\u001b[0m \u001b[0;34m=\u001b[0m \u001b[0mplt\u001b[0m\u001b[0;34m.\u001b[0m\u001b[0mfigure\u001b[0m\u001b[0;34m(\u001b[0m\u001b[0mfigsize\u001b[0m\u001b[0;34m=\u001b[0m\u001b[0;34m(\u001b[0m\u001b[0;36m10\u001b[0m\u001b[0;34m,\u001b[0m\u001b[0;36m10\u001b[0m\u001b[0;34m)\u001b[0m\u001b[0;34m)\u001b[0m\u001b[0;34m\u001b[0m\u001b[0m\n\u001b[0;32m----> 4\u001b[0;31m \u001b[0mf\u001b[0m \u001b[0;34m=\u001b[0m \u001b[0mfilters\u001b[0m\u001b[0;34m[\u001b[0m\u001b[0;34m:\u001b[0m\u001b[0;34m,\u001b[0m\u001b[0;34m:\u001b[0m\u001b[0;34m,\u001b[0m\u001b[0;34m:\u001b[0m\u001b[0;34m,\u001b[0m\u001b[0;36m96\u001b[0m\u001b[0;34m]\u001b[0m\u001b[0;34m\u001b[0m\u001b[0m\n\u001b[0m\u001b[1;32m      5\u001b[0m \u001b[0;31m# for i in range(n_ilters):\u001b[0m\u001b[0;34m\u001b[0m\u001b[0;34m\u001b[0m\u001b[0m\n\u001b[1;32m      6\u001b[0m \u001b[0;31m#  f = filters[:,:,:,i]\u001b[0m\u001b[0;34m\u001b[0m\u001b[0;34m\u001b[0m\u001b[0m\n",
      "\u001b[0;31mIndexError\u001b[0m: index 96 is out of bounds for axis 3 with size 96"
     ]
    },
    {
     "data": {
      "text/plain": [
       "<Figure size 720x720 with 0 Axes>"
      ]
     },
     "metadata": {},
     "output_type": "display_data"
    }
   ],
   "source": [
    "n_filters=96\n",
    "ix = 1\n",
    "fig = plt.figure(figsize=(10,10))\n",
    "f = filters[:,:,:,96]\n",
    "# for i in range(n_ilters):\n",
    "#  f = filters[:,:,:,i]\n",
    "    # plt.imshow(f[:,:,:,i])\n",
    "for j in range(55):\n",
    "    plt.subplot(96,16,ix)\n",
    "    plt.imshow(f[:,:,j], cmap='gray')\n",
    "    # print(f[:,:,j].shape)\n",
    "    ix+=1\n",
    "plt.show()"
   ]
  },
  {
   "cell_type": "code",
   "execution_count": 110,
   "metadata": {},
   "outputs": [
    {
     "ename": "ValueError",
     "evalue": "'' is not a valid value for name; supported values are 'Accent', 'Accent_r', 'Blues', 'Blues_r', 'BrBG', 'BrBG_r', 'BuGn', 'BuGn_r', 'BuPu', 'BuPu_r', 'CMRmap', 'CMRmap_r', 'Dark2', 'Dark2_r', 'GnBu', 'GnBu_r', 'Greens', 'Greens_r', 'Greys', 'Greys_r', 'OrRd', 'OrRd_r', 'Oranges', 'Oranges_r', 'PRGn', 'PRGn_r', 'Paired', 'Paired_r', 'Pastel1', 'Pastel1_r', 'Pastel2', 'Pastel2_r', 'PiYG', 'PiYG_r', 'PuBu', 'PuBuGn', 'PuBuGn_r', 'PuBu_r', 'PuOr', 'PuOr_r', 'PuRd', 'PuRd_r', 'Purples', 'Purples_r', 'RdBu', 'RdBu_r', 'RdGy', 'RdGy_r', 'RdPu', 'RdPu_r', 'RdYlBu', 'RdYlBu_r', 'RdYlGn', 'RdYlGn_r', 'Reds', 'Reds_r', 'Set1', 'Set1_r', 'Set2', 'Set2_r', 'Set3', 'Set3_r', 'Spectral', 'Spectral_r', 'Wistia', 'Wistia_r', 'YlGn', 'YlGnBu', 'YlGnBu_r', 'YlGn_r', 'YlOrBr', 'YlOrBr_r', 'YlOrRd', 'YlOrRd_r', 'afmhot', 'afmhot_r', 'autumn', 'autumn_r', 'binary', 'binary_r', 'bone', 'bone_r', 'brg', 'brg_r', 'bwr', 'bwr_r', 'cividis', 'cividis_r', 'cool', 'cool_r', 'coolwarm', 'coolwarm_r', 'copper', 'copper_r', 'cubehelix', 'cubehelix_r', 'flag', 'flag_r', 'gist_earth', 'gist_earth_r', 'gist_gray', 'gist_gray_r', 'gist_heat', 'gist_heat_r', 'gist_ncar', 'gist_ncar_r', 'gist_rainbow', 'gist_rainbow_r', 'gist_stern', 'gist_stern_r', 'gist_yarg', 'gist_yarg_r', 'gnuplot', 'gnuplot2', 'gnuplot2_r', 'gnuplot_r', 'gray', 'gray_r', 'hot', 'hot_r', 'hsv', 'hsv_r', 'inferno', 'inferno_r', 'jet', 'jet_r', 'magma', 'magma_r', 'nipy_spectral', 'nipy_spectral_r', 'ocean', 'ocean_r', 'pink', 'pink_r', 'plasma', 'plasma_r', 'prism', 'prism_r', 'rainbow', 'rainbow_r', 'seismic', 'seismic_r', 'spring', 'spring_r', 'summer', 'summer_r', 'tab10', 'tab10_r', 'tab20', 'tab20_r', 'tab20b', 'tab20b_r', 'tab20c', 'tab20c_r', 'terrain', 'terrain_r', 'turbo', 'turbo_r', 'twilight', 'twilight_r', 'twilight_shifted', 'twilight_shifted_r', 'viridis', 'viridis_r', 'winter', 'winter_r'",
     "output_type": "error",
     "traceback": [
      "\u001b[0;31m---------------------------------------------------------------------------\u001b[0m",
      "\u001b[0;31mValueError\u001b[0m                                Traceback (most recent call last)",
      "\u001b[0;32m/tmp/ipykernel_1071660/3687368670.py\u001b[0m in \u001b[0;36m<module>\u001b[0;34m\u001b[0m\n\u001b[1;32m      6\u001b[0m \u001b[0;32mfor\u001b[0m \u001b[0mj\u001b[0m \u001b[0;32min\u001b[0m \u001b[0mrange\u001b[0m\u001b[0;34m(\u001b[0m\u001b[0;36m96\u001b[0m\u001b[0;34m)\u001b[0m\u001b[0;34m:\u001b[0m\u001b[0;34m\u001b[0m\u001b[0m\n\u001b[1;32m      7\u001b[0m     \u001b[0mplt\u001b[0m\u001b[0;34m.\u001b[0m\u001b[0msubplot\u001b[0m\u001b[0;34m(\u001b[0m\u001b[0mn_filters\u001b[0m\u001b[0;34m,\u001b[0m\u001b[0;36m10\u001b[0m\u001b[0;34m,\u001b[0m\u001b[0mix\u001b[0m\u001b[0;34m)\u001b[0m\u001b[0;34m\u001b[0m\u001b[0m\n\u001b[0;32m----> 8\u001b[0;31m     \u001b[0mplt\u001b[0m\u001b[0;34m.\u001b[0m\u001b[0mimshow\u001b[0m\u001b[0;34m(\u001b[0m\u001b[0mf\u001b[0m\u001b[0;34m[\u001b[0m\u001b[0;34m:\u001b[0m\u001b[0;34m,\u001b[0m\u001b[0;34m:\u001b[0m\u001b[0;34m,\u001b[0m\u001b[0mj\u001b[0m\u001b[0;34m]\u001b[0m\u001b[0;34m,\u001b[0m \u001b[0mcmap\u001b[0m\u001b[0;34m=\u001b[0m\u001b[0;34m''\u001b[0m\u001b[0;34m)\u001b[0m\u001b[0;34m\u001b[0m\u001b[0m\n\u001b[0m\u001b[1;32m      9\u001b[0m     \u001b[0;31m# print(f[:,:,j].shape)\u001b[0m\u001b[0;34m\u001b[0m\u001b[0;34m\u001b[0m\u001b[0m\n\u001b[1;32m     10\u001b[0m     \u001b[0mix\u001b[0m\u001b[0;34m+=\u001b[0m\u001b[0;36m1\u001b[0m\u001b[0;34m\u001b[0m\u001b[0m\n",
      "\u001b[0;32m~/.local/lib/python3.7/site-packages/matplotlib/_api/deprecation.py\u001b[0m in \u001b[0;36mwrapper\u001b[0;34m(*args, **kwargs)\u001b[0m\n\u001b[1;32m    454\u001b[0m                 \u001b[0;34m\"parameter will become keyword-only %(removal)s.\"\u001b[0m\u001b[0;34m,\u001b[0m\u001b[0;34m\u001b[0m\u001b[0m\n\u001b[1;32m    455\u001b[0m                 name=name, obj_type=f\"parameter of {func.__name__}()\")\n\u001b[0;32m--> 456\u001b[0;31m         \u001b[0;32mreturn\u001b[0m \u001b[0mfunc\u001b[0m\u001b[0;34m(\u001b[0m\u001b[0;34m*\u001b[0m\u001b[0margs\u001b[0m\u001b[0;34m,\u001b[0m \u001b[0;34m**\u001b[0m\u001b[0mkwargs\u001b[0m\u001b[0;34m)\u001b[0m\u001b[0;34m\u001b[0m\u001b[0m\n\u001b[0m\u001b[1;32m    457\u001b[0m \u001b[0;34m\u001b[0m\u001b[0m\n\u001b[1;32m    458\u001b[0m     \u001b[0;31m# Don't modify *func*'s signature, as boilerplate.py needs it.\u001b[0m\u001b[0;34m\u001b[0m\u001b[0;34m\u001b[0m\u001b[0m\n",
      "\u001b[0;32m~/.local/lib/python3.7/site-packages/matplotlib/pyplot.py\u001b[0m in \u001b[0;36mimshow\u001b[0;34m(X, cmap, norm, aspect, interpolation, alpha, vmin, vmax, origin, extent, interpolation_stage, filternorm, filterrad, resample, url, data, **kwargs)\u001b[0m\n\u001b[1;32m   2645\u001b[0m         \u001b[0mfilternorm\u001b[0m\u001b[0;34m=\u001b[0m\u001b[0mfilternorm\u001b[0m\u001b[0;34m,\u001b[0m \u001b[0mfilterrad\u001b[0m\u001b[0;34m=\u001b[0m\u001b[0mfilterrad\u001b[0m\u001b[0;34m,\u001b[0m \u001b[0mresample\u001b[0m\u001b[0;34m=\u001b[0m\u001b[0mresample\u001b[0m\u001b[0;34m,\u001b[0m\u001b[0;34m\u001b[0m\u001b[0m\n\u001b[1;32m   2646\u001b[0m         \u001b[0murl\u001b[0m\u001b[0;34m=\u001b[0m\u001b[0murl\u001b[0m\u001b[0;34m,\u001b[0m \u001b[0;34m**\u001b[0m\u001b[0;34m(\u001b[0m\u001b[0;34m{\u001b[0m\u001b[0;34m\"data\"\u001b[0m\u001b[0;34m:\u001b[0m \u001b[0mdata\u001b[0m\u001b[0;34m}\u001b[0m \u001b[0;32mif\u001b[0m \u001b[0mdata\u001b[0m \u001b[0;32mis\u001b[0m \u001b[0;32mnot\u001b[0m \u001b[0;32mNone\u001b[0m \u001b[0;32melse\u001b[0m \u001b[0;34m{\u001b[0m\u001b[0;34m}\u001b[0m\u001b[0;34m)\u001b[0m\u001b[0;34m,\u001b[0m\u001b[0;34m\u001b[0m\u001b[0m\n\u001b[0;32m-> 2647\u001b[0;31m         **kwargs)\n\u001b[0m\u001b[1;32m   2648\u001b[0m     \u001b[0msci\u001b[0m\u001b[0;34m(\u001b[0m\u001b[0m__ret\u001b[0m\u001b[0;34m)\u001b[0m\u001b[0;34m\u001b[0m\u001b[0m\n\u001b[1;32m   2649\u001b[0m     \u001b[0;32mreturn\u001b[0m \u001b[0m__ret\u001b[0m\u001b[0;34m\u001b[0m\u001b[0m\n",
      "\u001b[0;32m~/.local/lib/python3.7/site-packages/matplotlib/_api/deprecation.py\u001b[0m in \u001b[0;36mwrapper\u001b[0;34m(*args, **kwargs)\u001b[0m\n\u001b[1;32m    454\u001b[0m                 \u001b[0;34m\"parameter will become keyword-only %(removal)s.\"\u001b[0m\u001b[0;34m,\u001b[0m\u001b[0;34m\u001b[0m\u001b[0m\n\u001b[1;32m    455\u001b[0m                 name=name, obj_type=f\"parameter of {func.__name__}()\")\n\u001b[0;32m--> 456\u001b[0;31m         \u001b[0;32mreturn\u001b[0m \u001b[0mfunc\u001b[0m\u001b[0;34m(\u001b[0m\u001b[0;34m*\u001b[0m\u001b[0margs\u001b[0m\u001b[0;34m,\u001b[0m \u001b[0;34m**\u001b[0m\u001b[0mkwargs\u001b[0m\u001b[0;34m)\u001b[0m\u001b[0;34m\u001b[0m\u001b[0m\n\u001b[0m\u001b[1;32m    457\u001b[0m \u001b[0;34m\u001b[0m\u001b[0m\n\u001b[1;32m    458\u001b[0m     \u001b[0;31m# Don't modify *func*'s signature, as boilerplate.py needs it.\u001b[0m\u001b[0;34m\u001b[0m\u001b[0;34m\u001b[0m\u001b[0m\n",
      "\u001b[0;32m~/.local/lib/python3.7/site-packages/matplotlib/__init__.py\u001b[0m in \u001b[0;36minner\u001b[0;34m(ax, data, *args, **kwargs)\u001b[0m\n\u001b[1;32m   1410\u001b[0m     \u001b[0;32mdef\u001b[0m \u001b[0minner\u001b[0m\u001b[0;34m(\u001b[0m\u001b[0max\u001b[0m\u001b[0;34m,\u001b[0m \u001b[0;34m*\u001b[0m\u001b[0margs\u001b[0m\u001b[0;34m,\u001b[0m \u001b[0mdata\u001b[0m\u001b[0;34m=\u001b[0m\u001b[0;32mNone\u001b[0m\u001b[0;34m,\u001b[0m \u001b[0;34m**\u001b[0m\u001b[0mkwargs\u001b[0m\u001b[0;34m)\u001b[0m\u001b[0;34m:\u001b[0m\u001b[0;34m\u001b[0m\u001b[0m\n\u001b[1;32m   1411\u001b[0m         \u001b[0;32mif\u001b[0m \u001b[0mdata\u001b[0m \u001b[0;32mis\u001b[0m \u001b[0;32mNone\u001b[0m\u001b[0;34m:\u001b[0m\u001b[0;34m\u001b[0m\u001b[0m\n\u001b[0;32m-> 1412\u001b[0;31m             \u001b[0;32mreturn\u001b[0m \u001b[0mfunc\u001b[0m\u001b[0;34m(\u001b[0m\u001b[0max\u001b[0m\u001b[0;34m,\u001b[0m \u001b[0;34m*\u001b[0m\u001b[0mmap\u001b[0m\u001b[0;34m(\u001b[0m\u001b[0msanitize_sequence\u001b[0m\u001b[0;34m,\u001b[0m \u001b[0margs\u001b[0m\u001b[0;34m)\u001b[0m\u001b[0;34m,\u001b[0m \u001b[0;34m**\u001b[0m\u001b[0mkwargs\u001b[0m\u001b[0;34m)\u001b[0m\u001b[0;34m\u001b[0m\u001b[0m\n\u001b[0m\u001b[1;32m   1413\u001b[0m \u001b[0;34m\u001b[0m\u001b[0m\n\u001b[1;32m   1414\u001b[0m         \u001b[0mbound\u001b[0m \u001b[0;34m=\u001b[0m \u001b[0mnew_sig\u001b[0m\u001b[0;34m.\u001b[0m\u001b[0mbind\u001b[0m\u001b[0;34m(\u001b[0m\u001b[0max\u001b[0m\u001b[0;34m,\u001b[0m \u001b[0;34m*\u001b[0m\u001b[0margs\u001b[0m\u001b[0;34m,\u001b[0m \u001b[0;34m**\u001b[0m\u001b[0mkwargs\u001b[0m\u001b[0;34m)\u001b[0m\u001b[0;34m\u001b[0m\u001b[0m\n",
      "\u001b[0;32m~/.local/lib/python3.7/site-packages/matplotlib/axes/_axes.py\u001b[0m in \u001b[0;36mimshow\u001b[0;34m(self, X, cmap, norm, aspect, interpolation, alpha, vmin, vmax, origin, extent, interpolation_stage, filternorm, filterrad, resample, url, **kwargs)\u001b[0m\n\u001b[1;32m   5484\u001b[0m                               \u001b[0mfilterrad\u001b[0m\u001b[0;34m=\u001b[0m\u001b[0mfilterrad\u001b[0m\u001b[0;34m,\u001b[0m \u001b[0mresample\u001b[0m\u001b[0;34m=\u001b[0m\u001b[0mresample\u001b[0m\u001b[0;34m,\u001b[0m\u001b[0;34m\u001b[0m\u001b[0m\n\u001b[1;32m   5485\u001b[0m                               \u001b[0minterpolation_stage\u001b[0m\u001b[0;34m=\u001b[0m\u001b[0minterpolation_stage\u001b[0m\u001b[0;34m,\u001b[0m\u001b[0;34m\u001b[0m\u001b[0m\n\u001b[0;32m-> 5486\u001b[0;31m                               **kwargs)\n\u001b[0m\u001b[1;32m   5487\u001b[0m \u001b[0;34m\u001b[0m\u001b[0m\n\u001b[1;32m   5488\u001b[0m         \u001b[0mim\u001b[0m\u001b[0;34m.\u001b[0m\u001b[0mset_data\u001b[0m\u001b[0;34m(\u001b[0m\u001b[0mX\u001b[0m\u001b[0;34m)\u001b[0m\u001b[0;34m\u001b[0m\u001b[0m\n",
      "\u001b[0;32m~/.local/lib/python3.7/site-packages/matplotlib/image.py\u001b[0m in \u001b[0;36m__init__\u001b[0;34m(self, ax, cmap, norm, interpolation, origin, extent, filternorm, filterrad, resample, interpolation_stage, **kwargs)\u001b[0m\n\u001b[1;32m    937\u001b[0m             \u001b[0mresample\u001b[0m\u001b[0;34m=\u001b[0m\u001b[0mresample\u001b[0m\u001b[0;34m,\u001b[0m\u001b[0;34m\u001b[0m\u001b[0m\n\u001b[1;32m    938\u001b[0m             \u001b[0minterpolation_stage\u001b[0m\u001b[0;34m=\u001b[0m\u001b[0minterpolation_stage\u001b[0m\u001b[0;34m,\u001b[0m\u001b[0;34m\u001b[0m\u001b[0m\n\u001b[0;32m--> 939\u001b[0;31m             \u001b[0;34m**\u001b[0m\u001b[0mkwargs\u001b[0m\u001b[0;34m\u001b[0m\u001b[0m\n\u001b[0m\u001b[1;32m    940\u001b[0m         )\n\u001b[1;32m    941\u001b[0m \u001b[0;34m\u001b[0m\u001b[0m\n",
      "\u001b[0;32m~/.local/lib/python3.7/site-packages/matplotlib/image.py\u001b[0m in \u001b[0;36m__init__\u001b[0;34m(self, ax, cmap, norm, interpolation, origin, filternorm, filterrad, resample, interpolation_stage, **kwargs)\u001b[0m\n\u001b[1;32m    244\u001b[0m                  ):\n\u001b[1;32m    245\u001b[0m         \u001b[0mmartist\u001b[0m\u001b[0;34m.\u001b[0m\u001b[0mArtist\u001b[0m\u001b[0;34m.\u001b[0m\u001b[0m__init__\u001b[0m\u001b[0;34m(\u001b[0m\u001b[0mself\u001b[0m\u001b[0;34m)\u001b[0m\u001b[0;34m\u001b[0m\u001b[0m\n\u001b[0;32m--> 246\u001b[0;31m         \u001b[0mcm\u001b[0m\u001b[0;34m.\u001b[0m\u001b[0mScalarMappable\u001b[0m\u001b[0;34m.\u001b[0m\u001b[0m__init__\u001b[0m\u001b[0;34m(\u001b[0m\u001b[0mself\u001b[0m\u001b[0;34m,\u001b[0m \u001b[0mnorm\u001b[0m\u001b[0;34m,\u001b[0m \u001b[0mcmap\u001b[0m\u001b[0;34m)\u001b[0m\u001b[0;34m\u001b[0m\u001b[0m\n\u001b[0m\u001b[1;32m    247\u001b[0m         \u001b[0;32mif\u001b[0m \u001b[0morigin\u001b[0m \u001b[0;32mis\u001b[0m \u001b[0;32mNone\u001b[0m\u001b[0;34m:\u001b[0m\u001b[0;34m\u001b[0m\u001b[0m\n\u001b[1;32m    248\u001b[0m             \u001b[0morigin\u001b[0m \u001b[0;34m=\u001b[0m \u001b[0mmpl\u001b[0m\u001b[0;34m.\u001b[0m\u001b[0mrcParams\u001b[0m\u001b[0;34m[\u001b[0m\u001b[0;34m'image.origin'\u001b[0m\u001b[0;34m]\u001b[0m\u001b[0;34m\u001b[0m\u001b[0m\n",
      "\u001b[0;32m~/.local/lib/python3.7/site-packages/matplotlib/cm.py\u001b[0m in \u001b[0;36m__init__\u001b[0;34m(self, norm, cmap)\u001b[0m\n\u001b[1;32m    357\u001b[0m         \u001b[0mself\u001b[0m\u001b[0;34m.\u001b[0m\u001b[0mset_norm\u001b[0m\u001b[0;34m(\u001b[0m\u001b[0mnorm\u001b[0m\u001b[0;34m)\u001b[0m  \u001b[0;31m# The Normalize instance of this ScalarMappable.\u001b[0m\u001b[0;34m\u001b[0m\u001b[0m\n\u001b[1;32m    358\u001b[0m         \u001b[0mself\u001b[0m\u001b[0;34m.\u001b[0m\u001b[0mcmap\u001b[0m \u001b[0;34m=\u001b[0m \u001b[0;32mNone\u001b[0m  \u001b[0;31m# So that the setter knows we're initializing.\u001b[0m\u001b[0;34m\u001b[0m\u001b[0m\n\u001b[0;32m--> 359\u001b[0;31m         \u001b[0mself\u001b[0m\u001b[0;34m.\u001b[0m\u001b[0mset_cmap\u001b[0m\u001b[0;34m(\u001b[0m\u001b[0mcmap\u001b[0m\u001b[0;34m)\u001b[0m  \u001b[0;31m# The Colormap instance of this ScalarMappable.\u001b[0m\u001b[0;34m\u001b[0m\u001b[0m\n\u001b[0m\u001b[1;32m    360\u001b[0m         \u001b[0;31m#: The last colorbar associated with this ScalarMappable. May be None.\u001b[0m\u001b[0;34m\u001b[0m\u001b[0;34m\u001b[0m\u001b[0m\n\u001b[1;32m    361\u001b[0m         \u001b[0mself\u001b[0m\u001b[0;34m.\u001b[0m\u001b[0mcolorbar\u001b[0m \u001b[0;34m=\u001b[0m \u001b[0;32mNone\u001b[0m\u001b[0;34m\u001b[0m\u001b[0m\n",
      "\u001b[0;32m~/.local/lib/python3.7/site-packages/matplotlib/cm.py\u001b[0m in \u001b[0;36mset_cmap\u001b[0;34m(self, cmap)\u001b[0m\n\u001b[1;32m    544\u001b[0m         \"\"\"\n\u001b[1;32m    545\u001b[0m         \u001b[0min_init\u001b[0m \u001b[0;34m=\u001b[0m \u001b[0mself\u001b[0m\u001b[0;34m.\u001b[0m\u001b[0mcmap\u001b[0m \u001b[0;32mis\u001b[0m \u001b[0;32mNone\u001b[0m\u001b[0;34m\u001b[0m\u001b[0m\n\u001b[0;32m--> 546\u001b[0;31m         \u001b[0mcmap\u001b[0m \u001b[0;34m=\u001b[0m \u001b[0mget_cmap\u001b[0m\u001b[0;34m(\u001b[0m\u001b[0mcmap\u001b[0m\u001b[0;34m)\u001b[0m\u001b[0;34m\u001b[0m\u001b[0m\n\u001b[0m\u001b[1;32m    547\u001b[0m         \u001b[0mself\u001b[0m\u001b[0;34m.\u001b[0m\u001b[0mcmap\u001b[0m \u001b[0;34m=\u001b[0m \u001b[0mcmap\u001b[0m\u001b[0;34m\u001b[0m\u001b[0m\n\u001b[1;32m    548\u001b[0m         \u001b[0;32mif\u001b[0m \u001b[0;32mnot\u001b[0m \u001b[0min_init\u001b[0m\u001b[0;34m:\u001b[0m\u001b[0;34m\u001b[0m\u001b[0m\n",
      "\u001b[0;32m~/.local/lib/python3.7/site-packages/matplotlib/cm.py\u001b[0m in \u001b[0;36mget_cmap\u001b[0;34m(name, lut)\u001b[0m\n\u001b[1;32m    284\u001b[0m     \u001b[0;32mif\u001b[0m \u001b[0misinstance\u001b[0m\u001b[0;34m(\u001b[0m\u001b[0mname\u001b[0m\u001b[0;34m,\u001b[0m \u001b[0mcolors\u001b[0m\u001b[0;34m.\u001b[0m\u001b[0mColormap\u001b[0m\u001b[0;34m)\u001b[0m\u001b[0;34m:\u001b[0m\u001b[0;34m\u001b[0m\u001b[0m\n\u001b[1;32m    285\u001b[0m         \u001b[0;32mreturn\u001b[0m \u001b[0mname\u001b[0m\u001b[0;34m\u001b[0m\u001b[0m\n\u001b[0;32m--> 286\u001b[0;31m     \u001b[0m_api\u001b[0m\u001b[0;34m.\u001b[0m\u001b[0mcheck_in_list\u001b[0m\u001b[0;34m(\u001b[0m\u001b[0msorted\u001b[0m\u001b[0;34m(\u001b[0m\u001b[0m_cmap_registry\u001b[0m\u001b[0;34m)\u001b[0m\u001b[0;34m,\u001b[0m \u001b[0mname\u001b[0m\u001b[0;34m=\u001b[0m\u001b[0mname\u001b[0m\u001b[0;34m)\u001b[0m\u001b[0;34m\u001b[0m\u001b[0m\n\u001b[0m\u001b[1;32m    287\u001b[0m     \u001b[0;32mif\u001b[0m \u001b[0mlut\u001b[0m \u001b[0;32mis\u001b[0m \u001b[0;32mNone\u001b[0m\u001b[0;34m:\u001b[0m\u001b[0;34m\u001b[0m\u001b[0m\n\u001b[1;32m    288\u001b[0m         \u001b[0;32mreturn\u001b[0m \u001b[0m_cmap_registry\u001b[0m\u001b[0;34m[\u001b[0m\u001b[0mname\u001b[0m\u001b[0;34m]\u001b[0m\u001b[0;34m\u001b[0m\u001b[0m\n",
      "\u001b[0;32m~/.local/lib/python3.7/site-packages/matplotlib/_api/__init__.py\u001b[0m in \u001b[0;36mcheck_in_list\u001b[0;34m(_values, _print_supported_values, **kwargs)\u001b[0m\n\u001b[1;32m    127\u001b[0m             \u001b[0;32mif\u001b[0m \u001b[0m_print_supported_values\u001b[0m\u001b[0;34m:\u001b[0m\u001b[0;34m\u001b[0m\u001b[0m\n\u001b[1;32m    128\u001b[0m                 \u001b[0mmsg\u001b[0m \u001b[0;34m+=\u001b[0m \u001b[0;34mf\"; supported values are {', '.join(map(repr, values))}\"\u001b[0m\u001b[0;34m\u001b[0m\u001b[0m\n\u001b[0;32m--> 129\u001b[0;31m             \u001b[0;32mraise\u001b[0m \u001b[0mValueError\u001b[0m\u001b[0;34m(\u001b[0m\u001b[0mmsg\u001b[0m\u001b[0;34m)\u001b[0m\u001b[0;34m\u001b[0m\u001b[0m\n\u001b[0m\u001b[1;32m    130\u001b[0m \u001b[0;34m\u001b[0m\u001b[0m\n\u001b[1;32m    131\u001b[0m \u001b[0;34m\u001b[0m\u001b[0m\n",
      "\u001b[0;31mValueError\u001b[0m: '' is not a valid value for name; supported values are 'Accent', 'Accent_r', 'Blues', 'Blues_r', 'BrBG', 'BrBG_r', 'BuGn', 'BuGn_r', 'BuPu', 'BuPu_r', 'CMRmap', 'CMRmap_r', 'Dark2', 'Dark2_r', 'GnBu', 'GnBu_r', 'Greens', 'Greens_r', 'Greys', 'Greys_r', 'OrRd', 'OrRd_r', 'Oranges', 'Oranges_r', 'PRGn', 'PRGn_r', 'Paired', 'Paired_r', 'Pastel1', 'Pastel1_r', 'Pastel2', 'Pastel2_r', 'PiYG', 'PiYG_r', 'PuBu', 'PuBuGn', 'PuBuGn_r', 'PuBu_r', 'PuOr', 'PuOr_r', 'PuRd', 'PuRd_r', 'Purples', 'Purples_r', 'RdBu', 'RdBu_r', 'RdGy', 'RdGy_r', 'RdPu', 'RdPu_r', 'RdYlBu', 'RdYlBu_r', 'RdYlGn', 'RdYlGn_r', 'Reds', 'Reds_r', 'Set1', 'Set1_r', 'Set2', 'Set2_r', 'Set3', 'Set3_r', 'Spectral', 'Spectral_r', 'Wistia', 'Wistia_r', 'YlGn', 'YlGnBu', 'YlGnBu_r', 'YlGn_r', 'YlOrBr', 'YlOrBr_r', 'YlOrRd', 'YlOrRd_r', 'afmhot', 'afmhot_r', 'autumn', 'autumn_r', 'binary', 'binary_r', 'bone', 'bone_r', 'brg', 'brg_r', 'bwr', 'bwr_r', 'cividis', 'cividis_r', 'cool', 'cool_r', 'coolwarm', 'coolwarm_r', 'copper', 'copper_r', 'cubehelix', 'cubehelix_r', 'flag', 'flag_r', 'gist_earth', 'gist_earth_r', 'gist_gray', 'gist_gray_r', 'gist_heat', 'gist_heat_r', 'gist_ncar', 'gist_ncar_r', 'gist_rainbow', 'gist_rainbow_r', 'gist_stern', 'gist_stern_r', 'gist_yarg', 'gist_yarg_r', 'gnuplot', 'gnuplot2', 'gnuplot2_r', 'gnuplot_r', 'gray', 'gray_r', 'hot', 'hot_r', 'hsv', 'hsv_r', 'inferno', 'inferno_r', 'jet', 'jet_r', 'magma', 'magma_r', 'nipy_spectral', 'nipy_spectral_r', 'ocean', 'ocean_r', 'pink', 'pink_r', 'plasma', 'plasma_r', 'prism', 'prism_r', 'rainbow', 'rainbow_r', 'seismic', 'seismic_r', 'spring', 'spring_r', 'summer', 'summer_r', 'tab10', 'tab10_r', 'tab20', 'tab20_r', 'tab20b', 'tab20b_r', 'tab20c', 'tab20c_r', 'terrain', 'terrain_r', 'turbo', 'turbo_r', 'twilight', 'twilight_r', 'twilight_shifted', 'twilight_shifted_r', 'viridis', 'viridis_r', 'winter', 'winter_r'"
     ]
    },
    {
     "data": {
      "image/png": "[encoded data removed]",
      "text/plain": [
       "<Figure size 7200x7200 with 1 Axes>"
      ]
     },
     "metadata": {
      "needs_background": "light"
     },
     "output_type": "display_data"
    }
   ],
   "source": [
    "n_filters=96\n",
    "ix = 1\n",
    "fig = plt.figure(figsize=(100,100))\n",
    "for i in range(n_filters):\n",
    "    f = a[:,:,:,i]\n",
    "for j in range(96):\n",
    "    plt.subplot(n_filters,10,ix)\n",
    "    plt.imshow(f[:,:,j], cmap='')\n",
    "    # print(f[:,:,j].shape)\n",
    "    ix+=1\n",
    "plt.show()"
   ]
  },
  {
   "cell_type": "markdown",
   "metadata": {},
   "source": [
    "# lay_feat_concatened"
   ]
  },
  {
   "cell_type": "code",
   "execution_count": 4,
   "metadata": {},
   "outputs": [],
   "source": [
    "dim = lay_feat_concatenated.shape\n",
    "dim= np.asarray(dim)"
   ]
  },
  {
   "cell_type": "code",
   "execution_count": 5,
   "metadata": {},
   "outputs": [
    {
     "name": "stdout",
     "output_type": "stream",
     "text": [
      "(290400, 4320)\n"
     ]
    }
   ],
   "source": [
    "lay_feat_concatenated = lay_feat_concatenated.reshape(np.prod(dim[:-1]),dim[-1],order='F').copy()\n",
    "print(lay_feat_concatenated.shape)"
   ]
  },
  {
   "cell_type": "code",
   "execution_count": 6,
   "metadata": {},
   "outputs": [
    {
     "name": "stdout",
     "output_type": "stream",
     "text": [
      "<KeysViewHDF5 ['lay_feat_concatenated']>\n",
      "(290400, 4320)\n"
     ]
    }
   ],
   "source": [
    "dir = '/local_raid3/03_user/jungmin/02_data/Encoding_decoding/encoding_analyzing/02_Goal-Driven-DL/01_NeuralEncodingDecoding/sourcecode/source_code_v2/source_code_v2/check_correaltion/lay_feat_concat_reshape.mat'\n",
    "lay_concat_reshape = h5py.File(dir , 'r')\n",
    "print(lay_concat_reshape.keys())\n",
    "lay_concat_reshape = lay_concat_reshape['lay_feat_concatenated']\n",
    "lay_concat_reshape = np.transpose(lay_concat_reshape,(1,0))\n",
    "print(lay_concat_reshape.shape)"
   ]
  },
  {
   "cell_type": "code",
   "execution_count": 7,
   "metadata": {},
   "outputs": [
    {
     "name": "stdout",
     "output_type": "stream",
     "text": [
      "1.0\n",
      "True\n"
     ]
    }
   ],
   "source": [
    "a_list = []\n",
    "for i in range(100):\n",
    "    r = np.corrcoef(lay_feat_concatenated[:,i].ravel(), lay_concat_reshape[:,i].ravel())[0,1]\n",
    "    a_list.append(r)\n",
    "    \n",
    "print(np.mean(a_list))\n",
    "print(np.array_equal(lay_feat_concatenated, lay_concat_reshape))"
   ]
  },
  {
   "cell_type": "markdown",
   "metadata": {},
   "source": [
    "# lay_feat_concatenated_mean"
   ]
  },
  {
   "cell_type": "code",
   "execution_count": 7,
   "metadata": {},
   "outputs": [
    {
     "name": "stdout",
     "output_type": "stream",
     "text": [
      "(290400, 1)\n"
     ]
    }
   ],
   "source": [
    "lay_feat_concatenated_mean = np.mean(lay_feat_concatenated,1)\n",
    "lay_feat_concatenated_mean = np.expand_dims(lay_feat_concatenated_mean,-1)\n",
    "print(lay_feat_concatenated_mean.shape)"
   ]
  },
  {
   "cell_type": "code",
   "execution_count": 9,
   "metadata": {},
   "outputs": [
    {
     "name": "stdout",
     "output_type": "stream",
     "text": [
      "<KeysViewHDF5 ['lay_feat_concatenated_mean']>\n",
      "(290400, 1)\n"
     ]
    }
   ],
   "source": [
    "dir = '/local_raid3/03_user/jungmin/02_data/Encoding_decoding/encoding_analyzing/02_Goal-Driven-DL/01_NeuralEncodingDecoding/sourcecode/source_code_v2/source_code_v2/check_correaltion/lay_feat_concat_mean.mat'\n",
    "lay_concat_mean = h5py.File(dir , 'r')\n",
    "print(lay_concat_mean.keys())\n",
    "lay_concat_mean = lay_concat_mean['lay_feat_concatenated_mean']\n",
    "lay_concat_mean = np.transpose(lay_concat_mean,(1,0))\n",
    "print(lay_concat_mean.shape)"
   ]
  },
  {
   "cell_type": "code",
   "execution_count": 18,
   "metadata": {},
   "outputs": [
    {
     "name": "stdout",
     "output_type": "stream",
     "text": [
      "0.9999999999999291\n",
      "False\n"
     ]
    }
   ],
   "source": [
    "a_list = []\n",
    "for i in range(100):\n",
    "    r = np.corrcoef(lay_feat_concatenated_mean[i:,].ravel(), lay_concat_mean[i:,].ravel())[0,1]\n",
    "    a_list.append(r)\n",
    "    \n",
    "print(np.mean(a_list))\n",
    "print(np.array_equal(lay_feat_concatenated_mean, lay_concat_mean))"
   ]
  },
  {
   "cell_type": "markdown",
   "metadata": {},
   "source": [
    "# lay_feat_concatenated_std"
   ]
  },
  {
   "cell_type": "code",
   "execution_count": 8,
   "metadata": {},
   "outputs": [
    {
     "name": "stdout",
     "output_type": "stream",
     "text": [
      "(290400, 1)\n"
     ]
    }
   ],
   "source": [
    "lay_feat_concatenated_std = lay_feat_concatenated.std(1)\n",
    "lay_feat_concatenated_std = np.expand_dims(lay_feat_concatenated_std,-1)\n",
    "print(lay_feat_concatenated_std.shape)"
   ]
  },
  {
   "cell_type": "code",
   "execution_count": 11,
   "metadata": {},
   "outputs": [
    {
     "name": "stdout",
     "output_type": "stream",
     "text": [
      "<KeysViewHDF5 ['lay_feat_concatenated_std']>\n",
      "(290400, 1)\n"
     ]
    }
   ],
   "source": [
    "dir = '/local_raid3/03_user/jungmin/02_data/Encoding_decoding/encoding_analyzing/02_Goal-Driven-DL/01_NeuralEncodingDecoding/sourcecode/source_code_v2/source_code_v2/check_correaltion/lay_feat_concat_std.mat'\n",
    "lay_concat_std = h5py.File(dir , 'r')\n",
    "print(lay_concat_std.keys())\n",
    "lay_concat_std = lay_concat_std['lay_feat_concatenated_std']\n",
    "lay_concat_std = np.transpose(lay_concat_std,(1,0))\n",
    "print(lay_concat_std.shape)"
   ]
  },
  {
   "cell_type": "code",
   "execution_count": 23,
   "metadata": {},
   "outputs": [
    {
     "name": "stdout",
     "output_type": "stream",
     "text": [
      "0.9999999999999685\n",
      "False\n"
     ]
    }
   ],
   "source": [
    "a_list = []\n",
    "for i in range(100):\n",
    "    r = np.corrcoef(lay_feat_concatenated_std[i:,].ravel(), lay_concat_std[i:,].ravel())[0,1]\n",
    "    a_list.append(r)\n",
    "    \n",
    "print(np.mean(a_list))\n",
    "print(np.array_equal(lay_feat_concatenated_std, lay_concat_std))"
   ]
  },
  {
   "cell_type": "markdown",
   "metadata": {},
   "source": [
    "# lay_feat_concatenated bsxfun@minus"
   ]
  },
  {
   "cell_type": "code",
   "execution_count": 9,
   "metadata": {},
   "outputs": [
    {
     "name": "stdout",
     "output_type": "stream",
     "text": [
      "(290400, 4320)\n"
     ]
    }
   ],
   "source": [
    "lay_feat_concatenated = np.subtract(lay_feat_concatenated,lay_feat_concatenated_mean)\n",
    "print(lay_feat_concatenated.shape)"
   ]
  },
  {
   "cell_type": "code",
   "execution_count": 13,
   "metadata": {},
   "outputs": [
    {
     "name": "stdout",
     "output_type": "stream",
     "text": [
      "<KeysViewHDF5 ['lay_feat_concatenated']>\n",
      "(290400, 4320)\n"
     ]
    }
   ],
   "source": [
    "dir = '/local_raid3/03_user/jungmin/02_data/Encoding_decoding/encoding_analyzing/02_Goal-Driven-DL/01_NeuralEncodingDecoding/sourcecode/source_code_v2/source_code_v2/check_correaltion/lay_feat_minus.mat'\n",
    "lay_concat_minus = h5py.File(dir , 'r')\n",
    "print(lay_concat_minus.keys())\n",
    "lay_concat_minus = lay_concat_minus['lay_feat_concatenated']\n",
    "lay_concat_minus = np.transpose(lay_concat_minus,(1,0))\n",
    "print(lay_concat_minus.shape)"
   ]
  },
  {
   "cell_type": "code",
   "execution_count": 28,
   "metadata": {},
   "outputs": [
    {
     "name": "stdout",
     "output_type": "stream",
     "text": [
      "0.9999999999999803\n",
      "False\n"
     ]
    }
   ],
   "source": [
    "a_list = []\n",
    "for i in range(100):\n",
    "    r = np.corrcoef(lay_feat_concatenated[:,i].ravel(), lay_concat_minus[:,i].ravel())[0,1]\n",
    "    a_list.append(r)\n",
    "    \n",
    "print(np.mean(a_list))\n",
    "print(np.array_equal(lay_feat_concatenated, lay_concat_minus))"
   ]
  },
  {
   "cell_type": "markdown",
   "metadata": {},
   "source": [
    "# lay_feat_concatenated bsxfun@rdivide"
   ]
  },
  {
   "cell_type": "code",
   "execution_count": 10,
   "metadata": {},
   "outputs": [
    {
     "name": "stdout",
     "output_type": "stream",
     "text": [
      "(290400, 4320)\n"
     ]
    }
   ],
   "source": [
    "lay_feat_concatenated = np.divide(lay_feat_concatenated,lay_feat_concatenated_std)\n",
    "print(lay_feat_concatenated.shape)"
   ]
  },
  {
   "cell_type": "code",
   "execution_count": 15,
   "metadata": {},
   "outputs": [
    {
     "name": "stdout",
     "output_type": "stream",
     "text": [
      "<KeysViewHDF5 ['lay_feat_concatenated']>\n",
      "(290400, 4320)\n"
     ]
    }
   ],
   "source": [
    "dir = '/local_raid3/03_user/jungmin/02_data/Encoding_decoding/encoding_analyzing/02_Goal-Driven-DL/01_NeuralEncodingDecoding/sourcecode/source_code_v2/source_code_v2/check_correaltion/lay_feat_divide.mat'\n",
    "lay_concat_divide = h5py.File(dir , 'r')\n",
    "print(lay_concat_divide.keys())\n",
    "lay_concat_divide = lay_concat_divide['lay_feat_concatenated']\n",
    "lay_concat_divide = np.transpose(lay_concat_divide,(1,0))\n",
    "print(lay_concat_divide.shape)"
   ]
  },
  {
   "cell_type": "code",
   "execution_count": 31,
   "metadata": {},
   "outputs": [
    {
     "name": "stdout",
     "output_type": "stream",
     "text": [
      "0.9999999999999523\n",
      "False\n"
     ]
    }
   ],
   "source": [
    "a_list = []\n",
    "for i in range(100):\n",
    "    r = np.corrcoef(lay_feat_concatenated[:,i].ravel(), lay_concat_divide[:,i].ravel())[0,1]\n",
    "    a_list.append(r)\n",
    "    \n",
    "print(np.mean(a_list))\n",
    "print(np.array_equal(lay_feat_concatenated, lay_concat_divide))"
   ]
  },
  {
   "cell_type": "markdown",
   "metadata": {},
   "source": [
    "# lay_feat_concatenate isnan to zeros then reshape"
   ]
  },
  {
   "cell_type": "code",
   "execution_count": 12,
   "metadata": {},
   "outputs": [
    {
     "name": "stdout",
     "output_type": "stream",
     "text": [
      "(290400, 4320)\n",
      "(290400, 4320)\n"
     ]
    }
   ],
   "source": [
    "print(lay_feat_concatenated.shape)\n",
    "\n",
    "np.nan_to_num(lay_feat_concatenated, copy=False)\n",
    "print(lay_feat_concatenated.shape)\n",
    "\n"
   ]
  },
  {
   "cell_type": "code",
   "execution_count": 15,
   "metadata": {},
   "outputs": [
    {
     "name": "stdout",
     "output_type": "stream",
     "text": [
      "<KeysViewHDF5 ['b']>\n",
      "(4320, 290400)\n",
      "(290400, 4320)\n"
     ]
    }
   ],
   "source": [
    "dir = '/local_raid3/03_user/jungmin/02_data/Encoding_decoding/encoding_analyzing/02_Goal-Driven-DL/01_NeuralEncodingDecoding/sourcecode/source_code_v2/source_code_v2/check_correaltion/lay_feat_nan.mat'\n",
    "lay_nan = h5py.File(dir , 'r')\n",
    "print(lay_nan.keys())\n",
    "lay_nan = lay_nan['b']\n",
    "print(lay_nan.shape)\n",
    "lay_nan = np.transpose(lay_nan,(1,0))\n",
    "print(lay_nan.shape)"
   ]
  },
  {
   "cell_type": "code",
   "execution_count": 16,
   "metadata": {},
   "outputs": [
    {
     "name": "stdout",
     "output_type": "stream",
     "text": [
      "0.9999999999999523\n",
      "False\n"
     ]
    }
   ],
   "source": [
    "a_list = []\n",
    "for i in range(100):\n",
    "    r = np.corrcoef(lay_feat_concatenated[:,i].ravel(), lay_nan[:,i].ravel())[0,1]\n",
    "    a_list.append(r)\n",
    "    \n",
    "print(np.mean(a_list))\n",
    "print(np.array_equal(lay_feat_concatenated, lay_nan))"
   ]
  },
  {
   "cell_type": "code",
   "execution_count": 25,
   "metadata": {},
   "outputs": [
    {
     "name": "stdout",
     "output_type": "stream",
     "text": [
      "(55, 55, 96, 4320)\n"
     ]
    }
   ],
   "source": [
    "lay_feat_concatenated = lay_feat_concatenated.reshape(dim,order='F').copy()\n",
    "print(lay_feat_concatenated.shape)"
   ]
  },
  {
   "cell_type": "code",
   "execution_count": 21,
   "metadata": {},
   "outputs": [
    {
     "name": "stdout",
     "output_type": "stream",
     "text": [
      "<KeysViewHDF5 ['lay_feat_concatenated']>\n",
      "(4320, 96, 55, 55)\n",
      "(55, 55, 96, 4320)\n"
     ]
    }
   ],
   "source": [
    "dir = '/local_raid3/03_user/jungmin/02_data/Encoding_decoding/encoding_analyzing/02_Goal-Driven-DL/01_NeuralEncodingDecoding/sourcecode/source_code_v2/source_code_v2/check_correaltion/lay_feat_nan2reshape.mat'\n",
    "lay_reshape_nan = h5py.File(dir , 'r')\n",
    "print(lay_reshape_nan.keys())\n",
    "lay_reshape_nan = lay_reshape_nan['lay_feat_concatenated']\n",
    "print(lay_reshape_nan.shape)\n",
    "lay_reshape_nan = np.transpose(lay_reshape_nan,(3,2,1,0))\n",
    "print(lay_reshape_nan.shape)"
   ]
  },
  {
   "cell_type": "code",
   "execution_count": 26,
   "metadata": {},
   "outputs": [
    {
     "name": "stdout",
     "output_type": "stream",
     "text": [
      "0.9999999999999524\n",
      "False\n"
     ]
    }
   ],
   "source": [
    "a_list = []\n",
    "for i in range(100):\n",
    "    r = np.corrcoef(lay_feat_concatenated[:,:,:,i].ravel(), lay_reshape_nan[:,:,:,i].ravel())[0,1]\n",
    "    a_list.append(r)\n",
    "    \n",
    "print(np.mean(a_list))\n",
    "print(np.array_equal(lay_feat_concatenated, lay_reshape_nan))"
   ]
  },
  {
   "cell_type": "code",
   "execution_count": 32,
   "metadata": {},
   "outputs": [
    {
     "name": "stdout",
     "output_type": "stream",
     "text": [
      "<KeysViewHDF5 ['lay_feat_concatenated', 'lay_feat_concatenated_mean', 'lay_feat_concatenated_std']>\n",
      "(4320, 96, 55, 55)\n",
      "(55, 55, 96, 4320)\n"
     ]
    }
   ],
   "source": [
    "dir = '/local_raid3/03_user/jungmin/02_data/Encoding_decoding/encoding_analyzing/02_Goal-Driven-DL/01_NeuralEncodingDecoding/sourcecode/source_code_v2/source_code_v2/check_correaltion/AlexNet_feature_maps_processed_layer1_concatenated.mat'\n",
    "lay_concat = h5py.File(dir , 'r')\n",
    "print(lay_concat.keys())\n",
    "lay_concat = lay_concat['lay_feat_concatenated']\n",
    "print(lay_concat.shape)\n",
    "lay_concat = np.transpose(lay_concat,(3,2,1,0))\n",
    "print(lay_concat.shape)"
   ]
  },
  {
   "cell_type": "code",
   "execution_count": 33,
   "metadata": {},
   "outputs": [],
   "source": [
    "foldpath = dataroot+'jlee_AlexNet_feature_maps_processed_layer1_concatenated' + '.h5'\n",
    "f = h5py.File(foldpath, 'w')\n",
    "a = f.create_group('lay_feat_concatenated')\n",
    "b = f.create_group('lay_feat_concatenated_mean')\n",
    "c = f.create_group('lay_feat_concatenated_std')\n",
    "data = a.create_dataset(\"data\", data=lay_feat_concatenated)\n",
    "data = b.create_dataset(\"data\", data=lay_feat_concatenated_mean)\n",
    "data = c.create_dataset(\"data\", data=lay_feat_concatenated_std)\n",
    "f.close()\n"
   ]
  },
  {
   "cell_type": "code",
   "execution_count": null,
   "metadata": {},
   "outputs": [],
   "source": []
  },
  {
   "cell_type": "markdown",
   "metadata": {},
   "source": [
    "# load fmri"
   ]
  },
  {
   "cell_type": "code",
   "execution_count": 11,
   "metadata": {},
   "outputs": [],
   "source": [
    "fmri = scipy.io.loadmat('/local_raid3/03_user/jungmin/02_data/Encoding_decoding/encoding_analyzing/02_Goal-Driven-DL/01_NeuralEncodingDecoding/sourcecode/source_code_v2/source_code_v2/subject1/video_fmri_dataset/subject1/fmri/training_fmri.mat')"
   ]
  },
  {
   "cell_type": "code",
   "execution_count": 12,
   "metadata": {},
   "outputs": [
    {
     "name": "stdout",
     "output_type": "stream",
     "text": [
      "<class 'dict'>\n"
     ]
    }
   ],
   "source": [
    "print(type(fmri))"
   ]
  },
  {
   "cell_type": "code",
   "execution_count": 16,
   "metadata": {},
   "outputs": [
    {
     "ename": "AttributeError",
     "evalue": "'numpy.ndarray' object has no attribute 'keys'",
     "output_type": "error",
     "traceback": [
      "\u001b[0;31m---------------------------------------------------------------------------\u001b[0m",
      "\u001b[0;31mAttributeError\u001b[0m                            Traceback (most recent call last)",
      "\u001b[0;32m/tmp/ipykernel_1071660/934790302.py\u001b[0m in \u001b[0;36m<module>\u001b[0;34m\u001b[0m\n\u001b[1;32m      1\u001b[0m \u001b[0ma\u001b[0m \u001b[0;34m=\u001b[0m \u001b[0mfmri\u001b[0m\u001b[0;34m[\u001b[0m\u001b[0;34m'fmri'\u001b[0m\u001b[0;34m]\u001b[0m\u001b[0;34m\u001b[0m\u001b[0m\n\u001b[1;32m      2\u001b[0m \u001b[0ma\u001b[0m\u001b[0;34m.\u001b[0m\u001b[0mshape\u001b[0m\u001b[0;34m\u001b[0m\u001b[0m\n\u001b[0;32m----> 3\u001b[0;31m \u001b[0ma\u001b[0m\u001b[0;34m.\u001b[0m\u001b[0mkeys\u001b[0m\u001b[0;34m(\u001b[0m\u001b[0;34m)\u001b[0m\u001b[0;34m\u001b[0m\u001b[0m\n\u001b[0m\u001b[1;32m      4\u001b[0m \u001b[0;31m# fmri1 = fmri['data1']\u001b[0m\u001b[0;34m\u001b[0m\u001b[0;34m\u001b[0m\u001b[0m\n\u001b[1;32m      5\u001b[0m \u001b[0;31m# fmri1= np.asarray(fmri1)\u001b[0m\u001b[0;34m\u001b[0m\u001b[0;34m\u001b[0m\u001b[0m\n",
      "\u001b[0;31mAttributeError\u001b[0m: 'numpy.ndarray' object has no attribute 'keys'"
     ]
    }
   ],
   "source": [
    "a = fmri['fmri']\n",
    "a.shape\n",
    "a.keys()\n",
    "# fmri1 = fmri['data1']\n",
    "# fmri1= np.asarray(fmri1)\n",
    "# print(fmri1.shape)"
   ]
  },
  {
   "cell_type": "code",
   "execution_count": 7,
   "metadata": {},
   "outputs": [
    {
     "data": {
      "text/plain": [
       "array([[array([[[-1.14832604e+00, -9.32469726e-01, -4.50913429e-01, ...,\n",
       "                 -2.18576327e-01, -9.56215680e-01,  2.18886063e-01],\n",
       "                [-5.71079433e-01, -2.03291520e-01, -6.95062459e-01, ...,\n",
       "                 -1.01838279e+00, -8.88668716e-01,  6.81118369e-01],\n",
       "                [ 9.39821243e-01,  4.39285517e-01, -7.81896234e-01, ...,\n",
       "                 -9.59276617e-01, -7.80843556e-01,  6.68938830e-02],\n",
       "                ...,\n",
       "                [-8.47424150e-01,  1.17588782e+00, -1.19025946e+00, ...,\n",
       "                  4.68236446e-01,  7.55319893e-01, -7.86831439e-01],\n",
       "                [-1.46876478e+00,  1.12733984e+00, -3.05812985e-01, ...,\n",
       "                 -7.21946537e-01,  5.29533744e-01, -1.60045922e+00],\n",
       "                [-8.64934683e-01,  8.83682191e-01, -2.03596115e-01, ...,\n",
       "                 -3.35868597e-01, -9.06289458e-01, -1.22410083e+00]],\n",
       "\n",
       "               [[-5.08144140e-01,  5.03557920e-01, -2.29388356e-01, ...,\n",
       "                  5.70173979e-01, -5.75843811e-01, -1.69480479e+00],\n",
       "                [-1.59329069e+00,  1.30372897e-01, -2.44961336e-01, ...,\n",
       "                  9.72409010e-01,  4.34261650e-01, -1.60910416e+00],\n",
       "                [-2.02310729e+00,  3.92379075e-01, -9.43996787e-01, ...,\n",
       "                  2.89813906e-01,  3.47512811e-02, -1.61514431e-01],\n",
       "                ...,\n",
       "                [ 1.04858077e+00,  2.30248260e+00,  2.12866381e-01, ...,\n",
       "                 -3.02877814e-01,  7.25696564e-01,  4.16670382e-01],\n",
       "                [ 8.51618826e-01, -6.41982973e-01,  4.62536484e-01, ...,\n",
       "                 -4.39662069e-01,  5.69538713e-01, -1.26477337e+00],\n",
       "                [ 4.55873191e-01, -1.32545626e+00, -6.31950855e-01, ...,\n",
       "                 -2.44534463e-01,  7.04913199e-01, -1.41382849e+00]],\n",
       "\n",
       "               [[-1.15871122e-02,  4.38835055e-01, -7.27006555e-01, ...,\n",
       "                 -1.00928760e+00, -6.41034961e-01,  7.03945875e-01],\n",
       "                [-1.84791100e+00,  2.00197279e-01,  9.07094300e-01, ...,\n",
       "                 -8.29984248e-01, -5.27899861e-01,  1.54911387e+00],\n",
       "                [-1.16282892e+00,  1.35187876e+00, -1.28368195e-02, ...,\n",
       "                 -7.79947937e-02,  1.68071494e-01,  8.23688686e-01],\n",
       "                ...,\n",
       "                [ 9.80681404e-02,  1.29973084e-01, -1.24367273e+00, ...,\n",
       "                  5.61245918e-01, -5.77156484e-01, -4.83985394e-01],\n",
       "                [ 2.38510728e-01,  4.97439921e-01, -3.82490873e-01, ...,\n",
       "                  1.29136848e+00, -3.49597961e-01, -1.45746505e+00],\n",
       "                [-3.43154639e-01, -4.62410986e-01,  1.25254738e+00, ...,\n",
       "                  2.17897490e-01,  6.41656101e-01, -1.92905426e+00]],\n",
       "\n",
       "               ...,\n",
       "\n",
       "               [[ 2.50003910e+00,  2.18223214e+00, -1.33648533e-02, ...,\n",
       "                 -5.49935639e-01, -7.06671298e-01,  8.75099361e-01],\n",
       "                [ 2.17915058e+00,  1.68524277e+00, -7.06262290e-01, ...,\n",
       "                  5.04508689e-02,  1.07371144e-01, -1.57285547e+00],\n",
       "                [ 4.76769060e-01,  1.94782186e+00,  4.23647285e-01, ...,\n",
       "                 -2.21176702e-03, -1.39384723e+00, -3.91889274e-01],\n",
       "                ...,\n",
       "                [ 9.39350426e-02,  2.81798244e-01,  1.36590898e+00, ...,\n",
       "                 -2.23207545e+00, -2.63911933e-01,  1.47046602e+00],\n",
       "                [ 9.63994920e-01,  5.10984957e-01,  1.53164518e+00, ...,\n",
       "                 -1.63992274e+00,  2.90131569e-01, -6.01299286e-01],\n",
       "                [ 2.59991497e-01, -6.73781455e-01,  1.50353360e+00, ...,\n",
       "                 -1.27825034e+00, -2.76345879e-01, -2.01655746e-01]],\n",
       "\n",
       "               [[ 2.34401441e+00,  2.56127572e+00,  7.49549344e-02, ...,\n",
       "                  2.30387047e-01, -8.71829808e-01,  1.44473350e+00],\n",
       "                [ 2.54558802e+00,  2.23568058e+00, -8.93144190e-01, ...,\n",
       "                 -6.72747374e-01, -2.04138100e-01, -6.03997447e-02],\n",
       "                [ 6.35528088e-01,  2.01842237e+00, -5.30398674e-02, ...,\n",
       "                  6.64620876e-01, -1.23663127e+00,  1.81116545e+00],\n",
       "                ...,\n",
       "                [ 1.70094907e-01,  3.30220759e-01,  1.21320856e+00, ...,\n",
       "                 -2.04984975e+00, -2.36519977e-01,  8.53899360e-01],\n",
       "                [ 7.80109346e-01,  4.75394785e-01,  1.55296636e+00, ...,\n",
       "                 -1.17275071e+00, -1.07466614e+00,  1.17071994e-01],\n",
       "                [ 2.04396427e-01, -5.88979483e-01,  1.43771386e+00, ...,\n",
       "                 -1.27533996e+00, -9.39146876e-02, -3.59423347e-02]],\n",
       "\n",
       "               [[ 2.32042074e+00,  2.45071435e+00, -8.43724683e-02, ...,\n",
       "                 -2.21268058e-01, -1.22556663e+00,  3.75267953e-01],\n",
       "                [ 2.38114429e+00,  2.35184622e+00, -4.49613124e-01, ...,\n",
       "                 -2.06124306e-01, -1.03492796e-01, -1.44392276e+00],\n",
       "                [ 6.53245091e-01,  1.90203977e+00,  8.59848082e-01, ...,\n",
       "                  2.19320551e-01, -1.38331950e+00, -2.28072181e-01],\n",
       "                ...,\n",
       "                [ 1.66120425e-01,  3.14073175e-01,  1.24734998e+00, ...,\n",
       "                 -2.06711650e+00,  6.92042857e-02,  1.36896896e+00],\n",
       "                [ 8.59793484e-01,  4.57138658e-01,  1.08571339e+00, ...,\n",
       "                 -1.95208073e+00, -3.76091659e-01, -4.97708559e-01],\n",
       "                [ 3.23952109e-01, -5.39784253e-01,  1.21855247e+00, ...,\n",
       "                 -1.43810129e+00, -1.38467833e-01, -4.75596860e-02]]],\n",
       "              dtype=float32)                                            ]],\n",
       "      dtype=object)"
      ]
     },
     "execution_count": 7,
     "metadata": {},
     "output_type": "execute_result"
    }
   ],
   "source": [
    "fmri1"
   ]
  },
  {
   "cell_type": "code",
   "execution_count": 23,
   "metadata": {},
   "outputs": [],
   "source": [
    "fmri_data1 = fmri_data['data1']\n",
    "fmri_data2 = fmri_data['data2']\n",
    "fmri_avg = (fmri_data1 + fmri_data2)/2\n"
   ]
  },
  {
   "cell_type": "code",
   "execution_count": 25,
   "metadata": {},
   "outputs": [
    {
     "name": "stdout",
     "output_type": "stream",
     "text": [
      "<class 'dict'>\n"
     ]
    }
   ],
   "source": [
    "print(type(fmri))"
   ]
  },
  {
   "cell_type": "code",
   "execution_count": null,
   "metadata": {},
   "outputs": [],
   "source": [
    "voxels = [22428, 22797, 51866, 10142, 40075, 22574, 53126, 52478]\n",
    "Rmat = np.zeros([dim[:-1],len(voxels)])\n",
    "k1 = 1"
   ]
  },
  {
   "cell_type": "code",
   "execution_count": null,
   "metadata": {},
   "outputs": [],
   "source": [
    "while k1 <= len(voxels):\n",
    "    print('Voxel: ', str(k1))\n",
    "    k2 = min(len(voxels), k1+100)\n",
    "    R = amri_sig_corr(lay_feat_concatenated, fmri_avg(voxels(k1:k2),:)\n",
    "    Rmat(:,:,:,k1:k2) = reshape(R,dim(1),dim(2),dim(3), k2-k1+1);\n",
    "    k1 = k2+1;\n",
    "save([fmripath, 'cross_corr_fmri_cnn_layer1.mat'], 'Rmat','-v7.3')\n"
   ]
  },
  {
   "cell_type": "code",
   "execution_count": null,
   "metadata": {},
   "outputs": [],
   "source": [
    "% Take the maximum across kernels\n",
    "R = squeeze(max(Rmat,[],3));\n",
    "\n",
    "% Show the receptive field of voxels\n",
    "figure(100);colormap jet\n",
    "for v = 1: length(voxels):\n",
    "   map = R(:,:, v)\n",
    "   imagesc(map)\n",
    "   axis off image\n",
    "   title(v); colorbar\n",
    "   pause\n",
    "end"
   ]
  },
  {
   "cell_type": "markdown",
   "metadata": {},
   "source": [
    "# correaltion\n",
    "1. lay_feat"
   ]
  },
  {
   "cell_type": "code",
   "execution_count": 4,
   "metadata": {},
   "outputs": [
    {
     "name": "stdout",
     "output_type": "stream",
     "text": [
      "dict_keys(['__header__', '__version__', '__globals__', 'lay_feat'])\n",
      "(55, 55, 96, 240)\n"
     ]
    }
   ],
   "source": [
    "dir = '/local_raid3/03_user/jungmin/02_data/Encoding_decoding/encoding_analyzing/02_Goal-Driven-DL/01_NeuralEncodingDecoding/sourcecode/source_code_v2/source_code_v2/check_correaltion/'\n",
    "ori_lay_feat = loadmat(dir + 'ori_lay_feat.mat')\n",
    "print(ori_lay_feat.keys())\n",
    "ori_lay_feat = ori_lay_feat['lay_feat']\n",
    "print(ori_lay_feat.shape)"
   ]
  },
  {
   "cell_type": "code",
   "execution_count": 5,
   "metadata": {},
   "outputs": [
    {
     "name": "stdout",
     "output_type": "stream",
     "text": [
      "1.0\n",
      "True\n"
     ]
    }
   ],
   "source": [
    "a_list = []\n",
    "for i in range(100):\n",
    "    r = np.corrcoef(lay_feat[:,:,:,i].ravel(), ori_lay_feat[:,:,:,i].ravel())[0,1]\n",
    "    a_list.append(r)\n",
    "    \n",
    "print(np.mean(a_list))\n",
    "print(np.array_equal(lay_feat, ori_lay_feat))"
   ]
  },
  {
   "cell_type": "code",
   "execution_count": 6,
   "metadata": {},
   "outputs": [
    {
     "data": {
      "text/plain": [
       "(array([ 2669., 32301., 63081., 76436., 54657., 31516., 16530.,  7545.,\n",
       "         4753.,   912.]),\n",
       " array([-2.603369  , -2.0543375 , -1.5053061 , -0.9562746 , -0.4072432 ,\n",
       "         0.14178824,  0.6908197 ,  1.2398511 ,  1.7888826 ,  2.337914  ,\n",
       "         2.8869455 ], dtype=float32),\n",
       " <BarContainer object of 10 artists>)"
      ]
     },
     "execution_count": 6,
     "metadata": {},
     "output_type": "execute_result"
    },
    {
     "data": {
      "image/png": "[encoded data removed]",
      "text/plain": [
       "<Figure size 432x288 with 1 Axes>"
      ]
     },
     "metadata": {
      "needs_background": "light"
     },
     "output_type": "display_data"
    }
   ],
   "source": [
    "plt.hist(lay_feat[:,:,:,i].ravel())"
   ]
  },
  {
   "cell_type": "markdown",
   "metadata": {},
   "source": [
    "2. lay_feat_concatenated before reshape (55,55,96,4320)"
   ]
  },
  {
   "cell_type": "code",
   "execution_count": 22,
   "metadata": {},
   "outputs": [
    {
     "name": "stdout",
     "output_type": "stream",
     "text": [
      "(4320, 96, 55, 55)\n",
      "(55, 55, 96, 4320)\n"
     ]
    },
    {
     "name": "stderr",
     "output_type": "stream",
     "text": [
      "/home/jmlee/.conda/envs/encoding/lib/python3.7/site-packages/ipykernel_launcher.py:3: H5pyDeprecationWarning: dataset.value has been deprecated. Use dataset[()] instead.\n",
      "  This is separate from the ipykernel package so we can avoid doing imports until\n"
     ]
    }
   ],
   "source": [
    "dir = '/local_raid3/03_user/jungmin/02_data/Encoding_decoding/encoding_analyzing/02_Goal-Driven-DL/01_NeuralEncodingDecoding/sourcecode/source_code_v2/source_code_v2/check_correaltion/lay_concat.mat'\n",
    "lay_concat = h5py.File(dir , 'r')\n",
    "lay_concat_1 = lay_concat['lay_feat_concatenated'].value\n",
    "print(lay_concat_1.shape)\n",
    "ori_lay_concat_1 = np.transpose(lay_concat_1,(3,2,1,0))\n",
    "print(ori_lay_concat_1.shape)"
   ]
  },
  {
   "cell_type": "code",
   "execution_count": 5,
   "metadata": {},
   "outputs": [
    {
     "name": "stdout",
     "output_type": "stream",
     "text": [
      "1.0\n",
      "True\n"
     ]
    }
   ],
   "source": [
    "b_list = []\n",
    "for i in range(100):\n",
    "    r = np.corrcoef(lay_feat_concatenated[:,:,:,i].ravel(), ori_lay_concat_1[:,:,:,i].ravel())[0,1]\n",
    "    b_list.append(r)\n",
    "    \n",
    "print(np.mean(b_list))\n",
    "print(np.array_equal(lay_feat_concatenated,ori_lay_concat_1))"
   ]
  },
  {
   "cell_type": "markdown",
   "metadata": {},
   "source": [
    "3. lay_feat_concatenated after reshape to (290400, 4320)"
   ]
  },
  {
   "cell_type": "code",
   "execution_count": 5,
   "metadata": {},
   "outputs": [
    {
     "name": "stdout",
     "output_type": "stream",
     "text": [
      "<KeysViewHDF5 ['lay_feat_concatenated']>\n",
      "(290400, 4320)\n"
     ]
    }
   ],
   "source": [
    "dir = '/local_raid3/03_user/jungmin/02_data/Encoding_decoding/encoding_analyzing/02_Goal-Driven-DL/01_NeuralEncodingDecoding/sourcecode/source_code_v2/source_code_v2/check_correaltion/lay_feat_concat_reshape.mat'\n",
    "lay_concat_reshape = h5py.File(dir , 'r')\n",
    "print(lay_concat_reshape.keys())\n",
    "lay_concat_reshape = lay_concat_reshape['lay_feat_concatenated']\n",
    "lay_concat_reshape = np.transpose(lay_concat_reshape,(1,0))\n",
    "print(lay_concat_reshape.shape)"
   ]
  },
  {
   "cell_type": "code",
   "execution_count": 24,
   "metadata": {},
   "outputs": [
    {
     "name": "stdout",
     "output_type": "stream",
     "text": [
      "0.0002690937778387192\n",
      "False\n"
     ]
    }
   ],
   "source": [
    "b_list = []\n",
    "for i in range(100):\n",
    "    r = np.corrcoef(lay_feat_concatenated[:,i], lay_concat_reshape[:,i])[0,1]\n",
    "    b_list.append(r)\n",
    "    \n",
    "print(np.mean(b_list))\n",
    "print(np.array_equal(lay_feat_concatenated,lay_concat_reshape))"
   ]
  },
  {
   "cell_type": "markdown",
   "metadata": {},
   "source": [
    "3. lay_feat_concatenated_mean"
   ]
  },
  {
   "cell_type": "code",
   "execution_count": 8,
   "metadata": {},
   "outputs": [
    {
     "name": "stdout",
     "output_type": "stream",
     "text": [
      "(290400, 1)\n"
     ]
    },
    {
     "name": "stderr",
     "output_type": "stream",
     "text": [
      "/home/jmlee/.conda/envs/encoding/lib/python3.7/site-packages/ipykernel_launcher.py:3: H5pyDeprecationWarning: dataset.value has been deprecated. Use dataset[()] instead.\n",
      "  This is separate from the ipykernel package so we can avoid doing imports until\n"
     ]
    }
   ],
   "source": [
    "dir = '/local_raid3/03_user/jungmin/02_data/Encoding_decoding/encoding_analyzing/02_Goal-Driven-DL/01_NeuralEncodingDecoding/sourcecode/source_code_v2/source_code_v2/check_correaltion/lay_feat_concat_mean.mat'\n",
    "lay_concat_mean = h5py.File(dir , 'r')\n",
    "lay_concat_mean = lay_concat_mean['lay_feat_concatenated_mean'].value\n",
    "lay_concat_mean = np.transpose(lay_concat_mean,(1,0))\n",
    "print(lay_concat_mean.shape)"
   ]
  },
  {
   "cell_type": "code",
   "execution_count": 18,
   "metadata": {},
   "outputs": [
    {
     "name": "stdout",
     "output_type": "stream",
     "text": [
      "False\n"
     ]
    }
   ],
   "source": [
    "print(np.array_equal(lay_feat_concatenated_mean,lay_concat_mean))"
   ]
  },
  {
   "cell_type": "markdown",
   "metadata": {},
   "source": [
    "# A"
   ]
  },
  {
   "cell_type": "code",
   "execution_count": 33,
   "metadata": {},
   "outputs": [
    {
     "name": "stdout",
     "output_type": "stream",
     "text": [
      "-2.8308265209198\n"
     ]
    }
   ],
   "source": [
    "print(np.min(lay_feat_concatenated_reshape))"
   ]
  },
  {
   "cell_type": "code",
   "execution_count": 54,
   "metadata": {},
   "outputs": [
    {
     "name": "stdout",
     "output_type": "stream",
     "text": [
      "-2.8308265\n"
     ]
    }
   ],
   "source": [
    "print(np.min(ori_lay_concat_reshape))"
   ]
  },
  {
   "cell_type": "code",
   "execution_count": 36,
   "metadata": {},
   "outputs": [
    {
     "data": {
      "text/plain": [
       "(array([11344., 18624., 43545., 93334., 76873., 24786.,  8757.,  6749.,\n",
       "         4318.,  2070.]),\n",
       " array([-2.583019  , -2.0469577 , -1.5108964 , -0.97483516, -0.43877387,\n",
       "         0.09728742,  0.6333487 ,  1.16941   ,  1.7054713 ,  2.2415326 ,\n",
       "         2.7775939 ], dtype=float32),\n",
       " <BarContainer object of 10 artists>)"
      ]
     },
     "execution_count": 36,
     "metadata": {},
     "output_type": "execute_result"
    },
    {
     "data": {
      "image/png": "[encoded data removed]",
      "text/plain": [
       "<Figure size 432x288 with 1 Axes>"
      ]
     },
     "metadata": {
      "needs_background": "light"
     },
     "output_type": "display_data"
    }
   ],
   "source": [
    "plt.hist(ori_lay_concat_reshape[:,i].ravel())"
   ]
  },
  {
   "cell_type": "code",
   "execution_count": 51,
   "metadata": {},
   "outputs": [
    {
     "data": {
      "text/plain": [
       "(array([11344., 18624., 43545., 93334., 76873., 24786.,  8757.,  6749.,\n",
       "         4318.,  2070.]),\n",
       " array([-2.583019  , -2.0469577 , -1.5108964 , -0.97483516, -0.43877387,\n",
       "         0.09728742,  0.6333487 ,  1.16941   ,  1.7054713 ,  2.2415326 ,\n",
       "         2.7775939 ], dtype=float32),\n",
       " <BarContainer object of 10 artists>)"
      ]
     },
     "execution_count": 51,
     "metadata": {},
     "output_type": "execute_result"
    },
    {
     "data": {
      "image/png": "[encoded data removed]",
      "text/plain": [
       "<Figure size 432x288 with 1 Axes>"
      ]
     },
     "metadata": {
      "needs_background": "light"
     },
     "output_type": "display_data"
    }
   ],
   "source": [
    "plt.hist(lay_feat_concatenated_reshape[:,i].ravel())"
   ]
  },
  {
   "cell_type": "markdown",
   "metadata": {},
   "source": [
    "# temp"
   ]
  },
  {
   "cell_type": "code",
   "execution_count": 10,
   "metadata": {},
   "outputs": [
    {
     "name": "stdout",
     "output_type": "stream",
     "text": [
      "dim :  (55, 55, 96, 4320)\n",
      "lay_feat_concatenated_prod:  290400\n"
     ]
    },
    {
     "ename": "TypeError",
     "evalue": "order must be str, not int",
     "output_type": "error",
     "traceback": [
      "\u001b[0;31m---------------------------------------------------------------------------\u001b[0m",
      "\u001b[0;31mTypeError\u001b[0m                                 Traceback (most recent call last)",
      "\u001b[0;32m~/.local/lib/python3.7/site-packages/numpy/core/fromnumeric.py\u001b[0m in \u001b[0;36m_wrapfunc\u001b[0;34m(obj, method, *args, **kwds)\u001b[0m\n\u001b[1;32m     56\u001b[0m     \u001b[0;32mtry\u001b[0m\u001b[0;34m:\u001b[0m\u001b[0;34m\u001b[0m\u001b[0m\n\u001b[0;32m---> 57\u001b[0;31m         \u001b[0;32mreturn\u001b[0m \u001b[0mbound\u001b[0m\u001b[0;34m(\u001b[0m\u001b[0;34m*\u001b[0m\u001b[0margs\u001b[0m\u001b[0;34m,\u001b[0m \u001b[0;34m**\u001b[0m\u001b[0mkwds\u001b[0m\u001b[0;34m)\u001b[0m\u001b[0;34m\u001b[0m\u001b[0m\n\u001b[0m\u001b[1;32m     58\u001b[0m     \u001b[0;32mexcept\u001b[0m \u001b[0mTypeError\u001b[0m\u001b[0;34m:\u001b[0m\u001b[0;34m\u001b[0m\u001b[0m\n",
      "\u001b[0;31mTypeError\u001b[0m: order must be str, not int",
      "\nDuring handling of the above exception, another exception occurred:\n",
      "\u001b[0;31mTypeError\u001b[0m                                 Traceback (most recent call last)",
      "\u001b[0;32m/tmp/ipykernel_3672647/3690967981.py\u001b[0m in \u001b[0;36m<module>\u001b[0;34m\u001b[0m\n\u001b[1;32m      5\u001b[0m \u001b[0mprint\u001b[0m\u001b[0;34m(\u001b[0m\u001b[0;34m'lay_feat_concatenated_prod: '\u001b[0m\u001b[0;34m,\u001b[0m \u001b[0mlay_feat_concatenated_prod\u001b[0m\u001b[0;34m)\u001b[0m\u001b[0;34m\u001b[0m\u001b[0m\n\u001b[1;32m      6\u001b[0m \u001b[0;34m\u001b[0m\u001b[0m\n\u001b[0;32m----> 7\u001b[0;31m \u001b[0mlay_feat_concatenated\u001b[0m \u001b[0;34m=\u001b[0m \u001b[0mnp\u001b[0m\u001b[0;34m.\u001b[0m\u001b[0mreshape\u001b[0m\u001b[0;34m(\u001b[0m\u001b[0mlay_feat_concatenated\u001b[0m\u001b[0;34m,\u001b[0m\u001b[0mlay_feat_concatenated_prod\u001b[0m\u001b[0;34m,\u001b[0m\u001b[0mdim\u001b[0m\u001b[0;34m[\u001b[0m\u001b[0;34m-\u001b[0m\u001b[0;36m1\u001b[0m\u001b[0;34m]\u001b[0m\u001b[0;34m)\u001b[0m\u001b[0;34m\u001b[0m\u001b[0m\n\u001b[0m\u001b[1;32m      8\u001b[0m \u001b[0mprint\u001b[0m\u001b[0;34m(\u001b[0m\u001b[0;34m'lay_feat_concatenated: '\u001b[0m\u001b[0;34m,\u001b[0m \u001b[0mlay_feat_concatenated\u001b[0m\u001b[0;34m.\u001b[0m\u001b[0mshape\u001b[0m\u001b[0;34m)\u001b[0m\u001b[0;34m\u001b[0m\u001b[0m\n\u001b[1;32m      9\u001b[0m \u001b[0;34m\u001b[0m\u001b[0m\n",
      "\u001b[0;32m<__array_function__ internals>\u001b[0m in \u001b[0;36mreshape\u001b[0;34m(*args, **kwargs)\u001b[0m\n",
      "\u001b[0;32m~/.local/lib/python3.7/site-packages/numpy/core/fromnumeric.py\u001b[0m in \u001b[0;36mreshape\u001b[0;34m(a, newshape, order)\u001b[0m\n\u001b[1;32m    296\u001b[0m            [5, 6]])\n\u001b[1;32m    297\u001b[0m     \"\"\"\n\u001b[0;32m--> 298\u001b[0;31m     \u001b[0;32mreturn\u001b[0m \u001b[0m_wrapfunc\u001b[0m\u001b[0;34m(\u001b[0m\u001b[0ma\u001b[0m\u001b[0;34m,\u001b[0m \u001b[0;34m'reshape'\u001b[0m\u001b[0;34m,\u001b[0m \u001b[0mnewshape\u001b[0m\u001b[0;34m,\u001b[0m \u001b[0morder\u001b[0m\u001b[0;34m=\u001b[0m\u001b[0morder\u001b[0m\u001b[0;34m)\u001b[0m\u001b[0;34m\u001b[0m\u001b[0m\n\u001b[0m\u001b[1;32m    299\u001b[0m \u001b[0;34m\u001b[0m\u001b[0m\n\u001b[1;32m    300\u001b[0m \u001b[0;34m\u001b[0m\u001b[0m\n",
      "\u001b[0;32m~/.local/lib/python3.7/site-packages/numpy/core/fromnumeric.py\u001b[0m in \u001b[0;36m_wrapfunc\u001b[0;34m(obj, method, *args, **kwds)\u001b[0m\n\u001b[1;32m     64\u001b[0m         \u001b[0;31m# Call _wrapit from within the except clause to ensure a potential\u001b[0m\u001b[0;34m\u001b[0m\u001b[0;34m\u001b[0m\u001b[0m\n\u001b[1;32m     65\u001b[0m         \u001b[0;31m# exception has a traceback chain.\u001b[0m\u001b[0;34m\u001b[0m\u001b[0;34m\u001b[0m\u001b[0m\n\u001b[0;32m---> 66\u001b[0;31m         \u001b[0;32mreturn\u001b[0m \u001b[0m_wrapit\u001b[0m\u001b[0;34m(\u001b[0m\u001b[0mobj\u001b[0m\u001b[0;34m,\u001b[0m \u001b[0mmethod\u001b[0m\u001b[0;34m,\u001b[0m \u001b[0;34m*\u001b[0m\u001b[0margs\u001b[0m\u001b[0;34m,\u001b[0m \u001b[0;34m**\u001b[0m\u001b[0mkwds\u001b[0m\u001b[0;34m)\u001b[0m\u001b[0;34m\u001b[0m\u001b[0m\n\u001b[0m\u001b[1;32m     67\u001b[0m \u001b[0;34m\u001b[0m\u001b[0m\n\u001b[1;32m     68\u001b[0m \u001b[0;34m\u001b[0m\u001b[0m\n",
      "\u001b[0;32m~/.local/lib/python3.7/site-packages/numpy/core/fromnumeric.py\u001b[0m in \u001b[0;36m_wrapit\u001b[0;34m(obj, method, *args, **kwds)\u001b[0m\n\u001b[1;32m     41\u001b[0m     \u001b[0;32mexcept\u001b[0m \u001b[0mAttributeError\u001b[0m\u001b[0;34m:\u001b[0m\u001b[0;34m\u001b[0m\u001b[0m\n\u001b[1;32m     42\u001b[0m         \u001b[0mwrap\u001b[0m \u001b[0;34m=\u001b[0m \u001b[0;32mNone\u001b[0m\u001b[0;34m\u001b[0m\u001b[0m\n\u001b[0;32m---> 43\u001b[0;31m     \u001b[0mresult\u001b[0m \u001b[0;34m=\u001b[0m \u001b[0mgetattr\u001b[0m\u001b[0;34m(\u001b[0m\u001b[0masarray\u001b[0m\u001b[0;34m(\u001b[0m\u001b[0mobj\u001b[0m\u001b[0;34m)\u001b[0m\u001b[0;34m,\u001b[0m \u001b[0mmethod\u001b[0m\u001b[0;34m)\u001b[0m\u001b[0;34m(\u001b[0m\u001b[0;34m*\u001b[0m\u001b[0margs\u001b[0m\u001b[0;34m,\u001b[0m \u001b[0;34m**\u001b[0m\u001b[0mkwds\u001b[0m\u001b[0;34m)\u001b[0m\u001b[0;34m\u001b[0m\u001b[0m\n\u001b[0m\u001b[1;32m     44\u001b[0m     \u001b[0;32mif\u001b[0m \u001b[0mwrap\u001b[0m\u001b[0;34m:\u001b[0m\u001b[0;34m\u001b[0m\u001b[0m\n\u001b[1;32m     45\u001b[0m         \u001b[0;32mif\u001b[0m \u001b[0;32mnot\u001b[0m \u001b[0misinstance\u001b[0m\u001b[0;34m(\u001b[0m\u001b[0mresult\u001b[0m\u001b[0;34m,\u001b[0m \u001b[0mmu\u001b[0m\u001b[0;34m.\u001b[0m\u001b[0mndarray\u001b[0m\u001b[0;34m)\u001b[0m\u001b[0;34m:\u001b[0m\u001b[0;34m\u001b[0m\u001b[0m\n",
      "\u001b[0;31mTypeError\u001b[0m: order must be str, not int"
     ]
    }
   ],
   "source": [
    "dim = lay_feat_concatenated.shape\n",
    "print('dim : ', dim)\n",
    "\n",
    "lay_feat_concatenated_prod = np.prod(dim[0:3])\n",
    "# print('lay_feat_concatenated_prod: ', lay_feat_concatenated_prod)\n",
    "\n",
    "lay_feat_concatenated = np.reshape(lay_feat_concatenated,(lay_feat_concatenated_prod,dim[-1]))\n",
    "# print('lay_feat_concatenated: ', lay_feat_concatenated.shape)\n",
    "\n",
    "lay_feat_concatenated_mean= np.mean(lay_feat_concatenated,1)\n",
    "lay_feat_concatenated_mean = np.expand_dims(lay_feat_concatenated_mean, -1)\n",
    "# print('lay_feat_concatenated_mean:', lay_feat_concatenated_mean.shape)\n",
    "\n",
    "lay_feat_concatenated_std = np.std(lay_feat_concatenated,1)\n",
    "# print('lay_feat_concatenated_std:', lay_feat_concatenated_std.shape)\n",
    "\n",
    "lay_feat_concatenated_std = np.expand_dims(lay_feat_concatenated_std, -1)\n",
    "# print('lay_feat_concatenated_std:', lay_feat_concatenated_std.shape)\n",
    "\n",
    "lay_feat_concatenated = np.subtract(lay_feat_concatenated,lay_feat_concatenated_mean)\n",
    "# print('lay_feat_concatenated: ', lay_feat_concatenated.shape)\n",
    "\n",
    "lay_feat_concatenated = np.divide(lay_feat_concatenated,lay_feat_concatenated_std)\n",
    "# print('lay_feat_concatenated: ', lay_feat_concatenated.shape)\n",
    "\n",
    "lay_feat_concatenated[np.isnan(lay_feat_concatenated)] = 0  ## NaN to zero\n",
    "lay_feat_concatenated = np.reshape(lay_feat_concatenated, dim)\n",
    "# print('lay_feat_concatenated: ', lay_feat_concatenated.shape)\n",
    "\n",
    "# save([dataroot,'AlexNet_feature_maps_processed_layer1_concatenated.mat'], ...\n",
    "#     'lay_feat_concatenated','lay_feat_concatenated_mean','lay_feat_concatenated_std','-v7.3');\n"
   ]
  },
  {
   "cell_type": "code",
   "execution_count": 36,
   "metadata": {},
   "outputs": [
    {
     "name": "stdout",
     "output_type": "stream",
     "text": [
      "(290400, 4320)\n"
     ]
    }
   ],
   "source": [
    "b_list = []\n",
    "for i in range(4320):\n",
    "    a = lay_feat_concatenated[:,:,:,i]\n",
    "    a = a.ravel()\n",
    "    a = np.expand_dims(a, -1)\n",
    "    b_list.append(a)\n",
    "lay_feat_concatenated_reshape = np.concatenate(b_list, axis=1)\n",
    "print(lay_feat_concatenated_reshape.shape)\n",
    "\n",
    "\n",
    "# lay_feat_concatenated_prod = np.prod(dim[0:3])\n",
    "# print('lay_feat_concatenated_prod: ', lay_feat_concatenated_prod)\n",
    "\n",
    "# lay_feat_concatenated = np.reshape(lay_feat_concatenated,lay_feat_concatenated_prod,dim[-1])\n",
    "# print('lay_feat_concatenated: ', lay_feat_concatenated.shape)\n"
   ]
  },
  {
   "cell_type": "code",
   "execution_count": 40,
   "metadata": {},
   "outputs": [
    {
     "name": "stdout",
     "output_type": "stream",
     "text": [
      "lay_feat_concatenated_mean: (290400,)\n"
     ]
    }
   ],
   "source": [
    "lay_feat_concatenated_mean_f= np.mean(lay_feat_concatenated_reshape,axis=1)\n",
    "print('lay_feat_concatenated_mean:', lay_feat_concatenated_mean_f.shape)\n"
   ]
  },
  {
   "cell_type": "markdown",
   "metadata": {},
   "source": [
    "# correlate fmri response to CNN activation time series"
   ]
  },
  {
   "cell_type": "code",
   "execution_count": 41,
   "metadata": {},
   "outputs": [
    {
     "name": "stdout",
     "output_type": "stream",
     "text": [
      "fmri_file_keys:  dict_keys(['__header__', '__version__', '__globals__', 'Rmat', 'fmri'])\n",
      "fmri_file : (1, 1)\n",
      "<class 'numpy.ndarray'>\n",
      "(1, 1)\n",
      "(1, 1)\n"
     ]
    }
   ],
   "source": [
    "fmripath = '/local_raid3/03_user/jungmin/02_data/Encoding_decoding/encoding_analyzing/02_Goal-Driven-DL/01_NeuralEncodingDecoding/sourcecode/source_code_v2/source_code_v2/subject1/video_fmri_dataset/subject1/fmri/'\n",
    "fmripath = fmripath + 'training_fmri.mat'\n",
    "fmri_file = loadmat(fmripath)[\"fmri\"]\n",
    "print('fmri_file :', fmri_file.shape)\n",
    "\n",
    "# fmri_file_keys = fmri_file.keys()\n",
    "# print('fmri_file_keys: ', fmri_file_keys)\n",
    "# fmri_file = fmri_file[\"fmri\"]\n",
    "\n",
    "fmri_data1 = fmri_file\n",
    "fmri_data2 = fmri_file\n",
    "print(fmri_data1.shape)\n",
    "print(fmri_data2.shape)\n"
   ]
  },
  {
   "cell_type": "code",
   "execution_count": 59,
   "metadata": {},
   "outputs": [
    {
     "name": "stdout",
     "output_type": "stream",
     "text": [
      "(1, 1)\n"
     ]
    }
   ],
   "source": [
    "fmripath = '/local_raid3/03_user/jungmin/02_data/Encoding_decoding/encoding_analyzing/02_Goal-Driven-DL/01_NeuralEncodingDecoding/sourcecode/source_code_v2/source_code_v2/subject1/video_fmri_dataset/subject1/fmri/'\n",
    "load_training_mat = fmripath + 'training_fmri.mat'\n",
    "fmri_file = loadmat(load_training_mat)[\"fmri\"]\n",
    "print(fmri_file.shape)\n",
    "\n",
    "# fmri_data1 = fmri_file['data1']\n",
    "# fmri_data2 = fmri_file['data2']\n",
    "# fmri_avg = (fmri_data1 + fmri_data2)/2\n",
    "# print(fmri_avg.shape)\n",
    "# fmri_avg = (fmri.data1+fmri.data2) / 2; % average across repeats\n",
    "# fmri_avg = reshape(fmri_avg, size(fmri_avg,1), size(fmri_avg,2)*size(fmri_avg,3));"
   ]
  },
  {
   "cell_type": "code",
   "execution_count": 68,
   "metadata": {},
   "outputs": [
    {
     "ename": "NotImplementedError",
     "evalue": "Please use HDF reader for matlab v7.3 files",
     "output_type": "error",
     "traceback": [
      "\u001b[0;31m---------------------------------------------------------------------------\u001b[0m",
      "\u001b[0;31mNotImplementedError\u001b[0m                       Traceback (most recent call last)",
      "\u001b[0;32m/tmp/ipykernel_1273106/2360301350.py\u001b[0m in \u001b[0;36m<module>\u001b[0;34m\u001b[0m\n\u001b[1;32m      1\u001b[0m \u001b[0mload_feature_maps\u001b[0m \u001b[0;34m=\u001b[0m \u001b[0mdataroot\u001b[0m \u001b[0;34m+\u001b[0m \u001b[0;34m'AlexNet_feature_maps_processed_layer1_concatenated.mat'\u001b[0m\u001b[0;34m\u001b[0m\u001b[0m\n\u001b[0;32m----> 2\u001b[0;31m \u001b[0mfeature_map_file\u001b[0m \u001b[0;34m=\u001b[0m \u001b[0mloadmat\u001b[0m\u001b[0;34m(\u001b[0m\u001b[0mload_feature_maps\u001b[0m\u001b[0;34m)\u001b[0m\u001b[0;34m\u001b[0m\u001b[0m\n\u001b[0m",
      "\u001b[0;32m~/.conda/envs/encoding/lib/python3.7/site-packages/scipy/io/matlab/mio.py\u001b[0m in \u001b[0;36mloadmat\u001b[0;34m(file_name, mdict, appendmat, **kwargs)\u001b[0m\n\u001b[1;32m    223\u001b[0m     \u001b[0mvariable_names\u001b[0m \u001b[0;34m=\u001b[0m \u001b[0mkwargs\u001b[0m\u001b[0;34m.\u001b[0m\u001b[0mpop\u001b[0m\u001b[0;34m(\u001b[0m\u001b[0;34m'variable_names'\u001b[0m\u001b[0;34m,\u001b[0m \u001b[0;32mNone\u001b[0m\u001b[0;34m)\u001b[0m\u001b[0;34m\u001b[0m\u001b[0m\n\u001b[1;32m    224\u001b[0m     \u001b[0;32mwith\u001b[0m \u001b[0m_open_file_context\u001b[0m\u001b[0;34m(\u001b[0m\u001b[0mfile_name\u001b[0m\u001b[0;34m,\u001b[0m \u001b[0mappendmat\u001b[0m\u001b[0;34m)\u001b[0m \u001b[0;32mas\u001b[0m \u001b[0mf\u001b[0m\u001b[0;34m:\u001b[0m\u001b[0;34m\u001b[0m\u001b[0m\n\u001b[0;32m--> 225\u001b[0;31m         \u001b[0mMR\u001b[0m\u001b[0;34m,\u001b[0m \u001b[0m_\u001b[0m \u001b[0;34m=\u001b[0m \u001b[0mmat_reader_factory\u001b[0m\u001b[0;34m(\u001b[0m\u001b[0mf\u001b[0m\u001b[0;34m,\u001b[0m \u001b[0;34m**\u001b[0m\u001b[0mkwargs\u001b[0m\u001b[0;34m)\u001b[0m\u001b[0;34m\u001b[0m\u001b[0m\n\u001b[0m\u001b[1;32m    226\u001b[0m         \u001b[0mmatfile_dict\u001b[0m \u001b[0;34m=\u001b[0m \u001b[0mMR\u001b[0m\u001b[0;34m.\u001b[0m\u001b[0mget_variables\u001b[0m\u001b[0;34m(\u001b[0m\u001b[0mvariable_names\u001b[0m\u001b[0;34m)\u001b[0m\u001b[0;34m\u001b[0m\u001b[0m\n\u001b[1;32m    227\u001b[0m \u001b[0;34m\u001b[0m\u001b[0m\n",
      "\u001b[0;32m~/.conda/envs/encoding/lib/python3.7/site-packages/scipy/io/matlab/mio.py\u001b[0m in \u001b[0;36mmat_reader_factory\u001b[0;34m(file_name, appendmat, **kwargs)\u001b[0m\n\u001b[1;32m     78\u001b[0m         \u001b[0;32mreturn\u001b[0m \u001b[0mMatFile5Reader\u001b[0m\u001b[0;34m(\u001b[0m\u001b[0mbyte_stream\u001b[0m\u001b[0;34m,\u001b[0m \u001b[0;34m**\u001b[0m\u001b[0mkwargs\u001b[0m\u001b[0;34m)\u001b[0m\u001b[0;34m,\u001b[0m \u001b[0mfile_opened\u001b[0m\u001b[0;34m\u001b[0m\u001b[0m\n\u001b[1;32m     79\u001b[0m     \u001b[0;32melif\u001b[0m \u001b[0mmjv\u001b[0m \u001b[0;34m==\u001b[0m \u001b[0;36m2\u001b[0m\u001b[0;34m:\u001b[0m\u001b[0;34m\u001b[0m\u001b[0m\n\u001b[0;32m---> 80\u001b[0;31m         \u001b[0;32mraise\u001b[0m \u001b[0mNotImplementedError\u001b[0m\u001b[0;34m(\u001b[0m\u001b[0;34m'Please use HDF reader for matlab v7.3 files'\u001b[0m\u001b[0;34m)\u001b[0m\u001b[0;34m\u001b[0m\u001b[0m\n\u001b[0m\u001b[1;32m     81\u001b[0m     \u001b[0;32melse\u001b[0m\u001b[0;34m:\u001b[0m\u001b[0;34m\u001b[0m\u001b[0m\n\u001b[1;32m     82\u001b[0m         \u001b[0;32mraise\u001b[0m \u001b[0mTypeError\u001b[0m\u001b[0;34m(\u001b[0m\u001b[0;34m'Did not recognize version %s'\u001b[0m \u001b[0;34m%\u001b[0m \u001b[0mmjv\u001b[0m\u001b[0;34m)\u001b[0m\u001b[0;34m\u001b[0m\u001b[0m\n",
      "\u001b[0;31mNotImplementedError\u001b[0m: Please use HDF reader for matlab v7.3 files"
     ]
    }
   ],
   "source": [
    "load_feature_maps = dataroot + 'AlexNet_feature_maps_processed_layer1_concatenated.mat'\n",
    "feature_map_file = loadmat(load_feature_maps)"
   ]
  },
  {
   "cell_type": "code",
   "execution_count": null,
   "metadata": {},
   "outputs": [],
   "source": []
  }
 ],
 "metadata": {
  "interpreter": {
   "hash": "e5dd3353f92ef7bf5a9ab1afe39a0a052fbc7416b62b53b2960209cd1d8a595e"
  },
  "kernelspec": {
   "display_name": "Python 3.7.0 ('encoding')",
   "language": "python",
   "name": "python3"
  },
  "language_info": {
   "codemirror_mode": {
    "name": "ipython",
    "version": 3
   },
   "file_extension": ".py",
   "mimetype": "text/x-python",
   "name": "python",
   "nbconvert_exporter": "python",
   "pygments_lexer": "ipython3",
   "version": "3.7.0"
  },
  "orig_nbformat": 4
 },
 "nbformat": 4,
 "nbformat_minor": 2
}
