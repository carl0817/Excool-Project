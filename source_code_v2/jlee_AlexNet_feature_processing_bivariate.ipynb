{
 "cells": [
  {
   "cell_type": "code",
   "execution_count": 1,
   "metadata": {},
   "outputs": [
    {
     "name": "stderr",
     "output_type": "stream",
     "text": [
      "/home/jmlee/.conda/envs/encoding/lib/python3.7/site-packages/nilearn/glm/__init__.py:56: FutureWarning: The nilearn.glm module is experimental. It may change in any future release of Nilearn.\n",
      "  'It may change in any future release of Nilearn.', FutureWarning)\n"
     ]
    }
   ],
   "source": [
    "import nibabel as nib\n",
    "from nilearn import glm\n",
    "import numpy as np\n",
    "import pandas as pd \n",
    "import matplotlib.pyplot as plt \n",
    "from scipy.io import loadmat \n",
    "import h5py, datetime\n",
    "from scipy.signal import convolve\n",
    "%matplotlib inline"
   ]
  },
  {
   "cell_type": "code",
   "execution_count": 2,
   "metadata": {},
   "outputs": [],
   "source": [
    "layername = ['/conv1','/conv2','/conv3','/conv4','/conv5','/fc6','/fc7','/fc8']"
   ]
  },
  {
   "cell_type": "code",
   "execution_count": 3,
   "metadata": {},
   "outputs": [],
   "source": [
    "srate = 30\n",
    "p  = [5, 16, 1, 1, 6, 0, 32]\n",
    "tr = 1/srate\n"
   ]
  },
  {
   "cell_type": "markdown",
   "metadata": {},
   "source": [
    "# hrf\n",
    "reference: https://github.com/poldracklab/poldracklab-base/blob/master/fmri/spm_hrf.py"
   ]
  },
  {
   "cell_type": "code",
   "execution_count": 4,
   "metadata": {},
   "outputs": [],
   "source": [
    "import scipy.stats\n",
    "import numpy as N\n",
    "\n",
    "def spm_hrf(TR,p=[5,16,1,1,6,0,32]):\n",
    "    \"\"\" An implementation of spm_hrf.m from the SPM distribution\n",
    "Arguments:\n",
    "Required:\n",
    "TR: repetition time at which to generate the HRF (in seconds)\n",
    "Optional:\n",
    "p: list with parameters of the two gamma functions:\n",
    "                                                     defaults\n",
    "                                                    (seconds)\n",
    "   p[0] - delay of response (relative to onset)         6\n",
    "   p[1] - delay of undershoot (relative to onset)      16\n",
    "   p[2] - dispersion of response                        1\n",
    "   p[3] - dispersion of undershoot                      1\n",
    "   p[4] - ratio of response to undershoot               6\n",
    "   p[5] - onset (seconds)                               0\n",
    "   p[6] - length of kernel (seconds)                   32\n",
    "\"\"\"\n",
    "\n",
    "    p=[float(x) for x in p]\n",
    "\n",
    "    fMRI_T = 16.0\n",
    "\n",
    "    TR=float(TR)\n",
    "    dt  = TR/fMRI_T\n",
    "    u   = N.arange(p[6]/dt + 1) - p[5]/dt\n",
    "    hrf=scipy.stats.gamma.pdf(u,p[0]/p[2],scale=1.0/(dt/p[2])) - scipy.stats.gamma.pdf(u,p[1]/p[3],scale=1.0/(dt/p[3]))/p[4]\n",
    "    good_pts=N.array(range(N.int(p[6]/TR)))*int(fMRI_T)\n",
    "    hrf=hrf[list(good_pts)]    \n",
    "    hrf = hrf/N.sum(hrf)\n",
    "    return hrf"
   ]
  },
  {
   "cell_type": "code",
   "execution_count": 5,
   "metadata": {},
   "outputs": [
    {
     "name": "stdout",
     "output_type": "stream",
     "text": [
      "(960,)\n",
      "(960, 1)\n",
      "float64\n",
      "float32\n"
     ]
    },
    {
     "name": "stderr",
     "output_type": "stream",
     "text": [
      "/home/jmlee/.conda/envs/encoding/lib/python3.7/site-packages/ipykernel_launcher.py:30: DeprecationWarning: `np.int` is a deprecated alias for the builtin `int`. To silence this warning, use `int` by itself. Doing this will not modify any behavior and is safe. When replacing `np.int`, you may wish to use e.g. `np.int64` or `np.int32` to specify the precision. If you wish to review your current use, check the release note link for additional information.\n",
      "Deprecated in NumPy 1.20; for more details and guidance: https://numpy.org/devdocs/release/1.20.0-notes.html#deprecations\n"
     ]
    }
   ],
   "source": [
    "poldrack_hrf = spm_hrf(tr,p)\n",
    "print(poldrack_hrf.shape)\n",
    "\n",
    "poldrack_hrf = np.expand_dims(poldrack_hrf, -1)\n",
    "print(poldrack_hrf.shape)\n",
    "\n",
    "print(poldrack_hrf.dtype)\n",
    "poldrack_hrf = np.array(poldrack_hrf, dtype=np.float32)\n",
    "print(poldrack_hrf.dtype)"
   ]
  },
  {
   "cell_type": "markdown",
   "metadata": {},
   "source": [
    "# load .mat"
   ]
  },
  {
   "cell_type": "code",
   "execution_count": 6,
   "metadata": {},
   "outputs": [
    {
     "name": "stdout",
     "output_type": "stream",
     "text": [
      "(961,)\n"
     ]
    },
    {
     "data": {
      "text/plain": [
       "[<matplotlib.lines.Line2D at 0x7f316f2d3160>]"
      ]
     },
     "execution_count": 6,
     "metadata": {},
     "output_type": "execute_result"
    },
    {
     "data": {
      "image/png": "[encoded data removed]",
      "text/plain": [
       "<Figure size 432x288 with 1 Axes>"
      ]
     },
     "metadata": {
      "needs_background": "light"
     },
     "output_type": "display_data"
    }
   ],
   "source": [
    "mat_file = loadmat('./hrf_variable.mat')\n",
    "mat_hrf = np.squeeze(mat_file['hrf'])\n",
    "print(mat_hrf.shape)\n",
    "plt.plot(mat_hrf)"
   ]
  },
  {
   "cell_type": "markdown",
   "metadata": {},
   "source": [
    "# plotting hrf \n",
    "first: poldrack_hrf "
   ]
  },
  {
   "cell_type": "code",
   "execution_count": 7,
   "metadata": {},
   "outputs": [
    {
     "name": "stdout",
     "output_type": "stream",
     "text": [
      "(960, 1)\n"
     ]
    },
    {
     "data": {
      "text/plain": [
       "[<matplotlib.lines.Line2D at 0x7f316f1eb2b0>]"
      ]
     },
     "execution_count": 7,
     "metadata": {},
     "output_type": "execute_result"
    },
    {
     "data": {
      "image/png": "[encoded data removed]",
      "text/plain": [
       "<Figure size 432x288 with 1 Axes>"
      ]
     },
     "metadata": {
      "needs_background": "light"
     },
     "output_type": "display_data"
    }
   ],
   "source": [
    "print(poldrack_hrf.shape)\n",
    "plt.plot(poldrack_hrf)"
   ]
  },
  {
   "cell_type": "markdown",
   "metadata": {},
   "source": [
    "# run_bivariate.m_training"
   ]
  },
  {
   "cell_type": "code",
   "execution_count": 6,
   "metadata": {},
   "outputs": [],
   "source": [
    "dataroot = '/local_raid3/03_user/jungmin/02_data/Encoding_decoding/encoding_analyzing/02_Goal-Driven-DL/01_NeuralEncodingDecoding/sourcecode/source_code_v2/source_code_v2/feature_extracted/'\n",
    "saveroot = '/local_raid3/03_user/jungmin/02_data/Encoding_decoding/encoding_analyzing/02_Goal-Driven-DL/01_NeuralEncodingDecoding/sourcecode/source_code_v2/source_code_v2/jlee_feature_extracted/'"
   ]
  },
  {
   "cell_type": "code",
   "execution_count": 7,
   "metadata": {},
   "outputs": [],
   "source": [
    "def print_time():\n",
    "    now = datetime.datetime.now()\n",
    "    print(\"{}Y-{}M-{}D, {}H-{}m-{}s\".format(now.year, now.month, now.day, now.hour, now.minute, now.second))"
   ]
  },
  {
   "cell_type": "code",
   "execution_count": 14,
   "metadata": {},
   "outputs": [
    {
     "name": "stdout",
     "output_type": "stream",
     "text": [
      "Seg:  1 ; Layer:  /conv1\n",
      "2022Y-5M-24D, 23H-36m-4s\n",
      "[14400    96    55    55]\n",
      "290400\n",
      "14400\n",
      "(14400, 290400)\n",
      "2022Y-5M-24D, 23H-36m-7s\n"
     ]
    },
    {
     "name": "stderr",
     "output_type": "stream",
     "text": [
      "/home/jmlee/.conda/envs/encoding/lib/python3.7/site-packages/ipykernel_launcher.py:9: H5pyDeprecationWarning: dataset.value has been deprecated. Use dataset[()] instead.\n",
      "  if __name__ == \"__main__\":\n"
     ]
    },
    {
     "name": "stdout",
     "output_type": "stream",
     "text": [
      "Log10 applied!\n",
      "2022Y-5M-24D, 23H-38m-20s\n",
      "Convold2d Done!\n",
      "2022Y-5M-24D, 23H-40m-29s\n"
     ]
    },
    {
     "ename": "TypeError",
     "evalue": "only integer scalar arrays can be converted to a scalar index",
     "output_type": "error",
     "traceback": [
      "\u001b[0;31m---------------------------------------------------------------------------\u001b[0m",
      "\u001b[0;31mTypeError\u001b[0m                                 Traceback (most recent call last)",
      "\u001b[0;32m/tmp/ipykernel_1970534/6333508.py\u001b[0m in \u001b[0;36m<module>\u001b[0;34m\u001b[0m\n\u001b[1;32m     29\u001b[0m         \u001b[0mdown_sample_idx\u001b[0m \u001b[0;34m=\u001b[0m \u001b[0mnp\u001b[0m\u001b[0;34m.\u001b[0m\u001b[0marange\u001b[0m\u001b[0;34m(\u001b[0m\u001b[0msrate\u001b[0m\u001b[0;34m+\u001b[0m\u001b[0;36m1\u001b[0m\u001b[0;34m,\u001b[0m \u001b[0mlen\u001b[0m\u001b[0;34m(\u001b[0m\u001b[0mts\u001b[0m\u001b[0;34m)\u001b[0m\u001b[0;34m,\u001b[0m \u001b[0msrate\u001b[0m\u001b[0;34m*\u001b[0m\u001b[0;36m2\u001b[0m\u001b[0;34m)\u001b[0m\u001b[0;34m\u001b[0m\u001b[0m\n\u001b[1;32m     30\u001b[0m         \u001b[0mts\u001b[0m \u001b[0;34m=\u001b[0m \u001b[0mts\u001b[0m\u001b[0;34m[\u001b[0m\u001b[0mdown_sample_idx\u001b[0m\u001b[0;34m]\u001b[0m\u001b[0;34m\u001b[0m\u001b[0m\n\u001b[0;32m---> 31\u001b[0;31m         \u001b[0mts\u001b[0m \u001b[0;34m=\u001b[0m\u001b[0mts\u001b[0m\u001b[0;34m.\u001b[0m\u001b[0mreshape\u001b[0m\u001b[0;34m(\u001b[0m\u001b[0;34m(\u001b[0m\u001b[0mdim\u001b[0m\u001b[0;34m[\u001b[0m\u001b[0;36m1\u001b[0m\u001b[0;34m:\u001b[0m\u001b[0;34m]\u001b[0m\u001b[0;34m,\u001b[0m\u001b[0;36m240\u001b[0m\u001b[0;34m)\u001b[0m\u001b[0;34m)\u001b[0m\u001b[0;34m\u001b[0m\u001b[0m\n\u001b[0m\u001b[1;32m     32\u001b[0m         \u001b[0mprint\u001b[0m\u001b[0;34m(\u001b[0m\u001b[0;34m\"Down sampled ts: {}\"\u001b[0m\u001b[0;34m.\u001b[0m\u001b[0mformat\u001b[0m\u001b[0;34m(\u001b[0m\u001b[0mts\u001b[0m\u001b[0;34m.\u001b[0m\u001b[0mshape\u001b[0m\u001b[0;34m)\u001b[0m\u001b[0;34m)\u001b[0m\u001b[0;34m\u001b[0m\u001b[0m\n\u001b[1;32m     33\u001b[0m         \u001b[0mprint_time\u001b[0m\u001b[0;34m(\u001b[0m\u001b[0;34m)\u001b[0m\u001b[0;34m\u001b[0m\u001b[0m\n",
      "\u001b[0;31mTypeError\u001b[0m: only integer scalar arrays can be converted to a scalar index"
     ]
    }
   ],
   "source": [
    "for seg in range(1,18):\n",
    "    secpath = dataroot + 'AlexNet_feature_maps_seg'+ str(seg)+'.h5'\n",
    "\n",
    "    for lay in range(0,len(layername)):\n",
    "        print('Seg: ',  str(seg) , '; Layer: ',layername[lay])\n",
    "        print_time()\n",
    "        lay_feat = h5py.File(secpath, 'r')\n",
    "        lay_feat = lay_feat[layername[lay] + '/data']\n",
    "        lay_feat = lay_feat.value\n",
    "        dim = lay_feat.shape\n",
    "        dim=np.asarray(dim)\n",
    "        print(dim)\n",
    "        Nu = np.prod(dim[1:])\n",
    "        print(Nu)\n",
    "        Nf = dim[0]\n",
    "        print(Nf)\n",
    "        lay_feat = np.reshape(lay_feat,(Nf,Nu))\n",
    "        print(lay_feat.shape) \n",
    "        print_time()\n",
    "        if lay < len(layername):   \n",
    "            lay_feat = np.log10(lay_feat + 0.01)\n",
    "        print(\"Log10 applied!\")\n",
    "        print_time()     \n",
    "        \n",
    "        ts = convolve(poldrack_hrf, lay_feat)\n",
    "        print(\"Convold2d Done!\")\n",
    "        print_time()\n",
    "        ts = ts[4*srate+1:4*srate+Nf, :]\n",
    "        down_sample_idx = np.arange(srate+1, len(ts), srate*2)\n",
    "        ts = ts[down_sample_idx]\n",
    "        # ts =ts.reshape((dim[1:], 240))\n",
    "        print(\"Down sampled ts: {}\".format(ts.shape))\n",
    "        print_time()\n",
    "        \n",
    "        foldpath = saveroot+'AlexNet_feature_maps_processed_seg' + str(seg)+'.h5'\n",
    "        f = h5py.File(foldpath, 'w')\n",
    "        g = f.create_group(layername[lay])\n",
    "        data = g.create_dataset(\"data\", data=ts)\n",
    "        print(\"Saved: {}\".format(foldpath))\n",
    "        print_time()\n",
    "        f.close()"
   ]
  },
  {
   "cell_type": "code",
   "execution_count": 52,
   "metadata": {},
   "outputs": [
    {
     "name": "stderr",
     "output_type": "stream",
     "text": [
      "/home/jmlee/.conda/envs/encoding/lib/python3.7/site-packages/ipykernel_launcher.py:2: H5pyDeprecationWarning: dataset.value has been deprecated. Use dataset[()] instead.\n",
      "  \n"
     ]
    },
    {
     "data": {
      "text/plain": [
       "(240, 290400)"
      ]
     },
     "execution_count": 52,
     "metadata": {},
     "output_type": "execute_result"
    }
   ],
   "source": [
    "# Checking\n",
    "load_w = h5py.File(foldpath, 'r')\n",
    "load_w[layername[lay] + '/data'].value.shape"
   ]
  },
  {
   "cell_type": "markdown",
   "metadata": {},
   "source": [
    "# Debug by Sungwoo"
   ]
  },
  {
   "cell_type": "code",
   "execution_count": 10,
   "metadata": {},
   "outputs": [
    {
     "name": "stdout",
     "output_type": "stream",
     "text": [
      "Seg:  1 ; Layer:  /conv1\n",
      "2022Y-4M-25D, 18H-18m-13s\n",
      "(14400, 96, 55, 55)\n"
     ]
    },
    {
     "name": "stderr",
     "output_type": "stream",
     "text": [
      "/home/jmlee/.conda/envs/encoding/lib/python3.7/site-packages/ipykernel_launcher.py:9: H5pyDeprecationWarning: dataset.value has been deprecated. Use dataset[()] instead.\n",
      "  if __name__ == \"__main__\":\n"
     ]
    }
   ],
   "source": [
    "seg = 1\n",
    "secpath = dataroot + 'AlexNet_feature_maps_seg'+ str(seg)+'.h5'\n",
    "\n",
    "lay = 0\n",
    "print('Seg: ',  str(seg) , '; Layer: ',layername[lay])\n",
    "print_time()\n",
    "lay_feat = h5py.File(secpath, 'r')\n",
    "lay_feat = lay_feat[layername[lay] + '/data']\n",
    "lay_feat = lay_feat.value\n",
    "dim = lay_feat.shape\n",
    "print(dim)"
   ]
  },
  {
   "cell_type": "code",
   "execution_count": 11,
   "metadata": {},
   "outputs": [
    {
     "name": "stdout",
     "output_type": "stream",
     "text": [
      "290400\n",
      "14400\n",
      "(14400, 290400)\n",
      "2022Y-4M-25D, 18H-18m-16s\n",
      "Log10 applied!\n",
      "2022Y-4M-25D, 18H-20m-27s\n"
     ]
    }
   ],
   "source": [
    "Nu = np.prod(dim[1:])\n",
    "print(Nu)\n",
    "Nf = dim[0]\n",
    "print(Nf)\n",
    "lay_feat = np.reshape(lay_feat,(Nf,Nu))\n",
    "print(lay_feat.shape) \n",
    "print_time()\n",
    "if lay < len(layername):   \n",
    "    lay_feat = np.log10(lay_feat + 0.01)\n",
    "print(\"Log10 applied!\")\n",
    "print_time()     "
   ]
  },
  {
   "cell_type": "code",
   "execution_count": 32,
   "metadata": {},
   "outputs": [
    {
     "name": "stdout",
     "output_type": "stream",
     "text": [
      "<class 'numpy.ndarray'> <class 'numpy.ndarray'>\n",
      "float32 float16\n",
      "(960, 1) (14400, 290400)\n",
      "2022Y-4M-25D, 18H-4m-21s\n"
     ]
    }
   ],
   "source": [
    "print(type(poldrack_hrf), type(lay_feat))\n",
    "print(poldrack_hrf.dtype, lay_feat.dtype)\n",
    "print(poldrack_hrf.shape, lay_feat.shape)\n",
    "print_time()\n",
    "\n",
    "ts = convolve2d(poldrack_hrf, lay_feat)\n",
    "print(\"Convold2d Done!\")\n",
    "print_time()"
   ]
  },
  {
   "cell_type": "code",
   "execution_count": 12,
   "metadata": {},
   "outputs": [],
   "source": [
    "from scipy.signal import convolve"
   ]
  },
  {
   "cell_type": "code",
   "execution_count": 14,
   "metadata": {},
   "outputs": [
    {
     "name": "stdout",
     "output_type": "stream",
     "text": [
      "<class 'numpy.ndarray'> <class 'numpy.ndarray'>\n",
      "float32 float16\n",
      "(960, 1) (14400, 290400)\n",
      "2022Y-4M-25D, 18H-21m-4s\n",
      "Convold2d Done!\n",
      "2022Y-4M-25D, 18H-26m-45s\n"
     ]
    }
   ],
   "source": [
    "print(type(poldrack_hrf), type(lay_feat))\n",
    "print(poldrack_hrf.dtype, lay_feat.dtype)\n",
    "print(poldrack_hrf.shape, lay_feat.shape)\n",
    "print_time()\n",
    "\n",
    "ts = convolve(poldrack_hrf, lay_feat)\n",
    "print(\"Convold Done!\")\n",
    "print_time()"
   ]
  },
  {
   "cell_type": "code",
   "execution_count": 15,
   "metadata": {},
   "outputs": [
    {
     "data": {
      "text/plain": [
       "(15359, 290400)"
      ]
     },
     "execution_count": 15,
     "metadata": {},
     "output_type": "execute_result"
    }
   ],
   "source": [
    "ts.shape"
   ]
  },
  {
   "cell_type": "code",
   "execution_count": 23,
   "metadata": {},
   "outputs": [
    {
     "name": "stdout",
     "output_type": "stream",
     "text": [
      "(15359, 100)\n"
     ]
    }
   ],
   "source": [
    "ts_ = loadmat(\"/check_correlation/ts.mat\")\n",
    "ts_ = ts_['ts_']\n",
    "print(ts_.shape)"
   ]
  },
  {
   "cell_type": "code",
   "execution_count": 25,
   "metadata": {},
   "outputs": [
    {
     "name": "stdout",
     "output_type": "stream",
     "text": [
      "0.999999999249486\n"
     ]
    }
   ],
   "source": [
    "r_list = []\n",
    "for i in range(100):\n",
    "    r = np.corrcoef(ts[:,i], ts_[:,i])[0,1]\n",
    "    r_list.append(r)\n",
    "    \n",
    "print(np.mean(r_list))\n",
    "print(np.array_equal(ts,ts_))"
   ]
  },
  {
   "cell_type": "markdown",
   "metadata": {},
   "source": [
    "# run_bivariate.m_testing"
   ]
  },
  {
   "cell_type": "code",
   "execution_count": 4,
   "metadata": {},
   "outputs": [
    {
     "ename": "NameError",
     "evalue": "name 'seg' is not defined",
     "output_type": "error",
     "traceback": [
      "\u001b[0;31m---------------------------------------------------------------------------\u001b[0m",
      "\u001b[0;31mNameError\u001b[0m                                 Traceback (most recent call last)",
      "\u001b[0;32m/tmp/ipykernel_3115442/2782082389.py\u001b[0m in \u001b[0;36m<module>\u001b[0;34m\u001b[0m\n\u001b[1;32m      1\u001b[0m \u001b[0;32mfor\u001b[0m \u001b[0mtest\u001b[0m \u001b[0;32min\u001b[0m \u001b[0mrange\u001b[0m\u001b[0;34m(\u001b[0m\u001b[0;36m1\u001b[0m\u001b[0;34m,\u001b[0m\u001b[0;36m5\u001b[0m\u001b[0;34m)\u001b[0m\u001b[0;34m:\u001b[0m\u001b[0;34m\u001b[0m\u001b[0m\n\u001b[0;32m----> 2\u001b[0;31m     \u001b[0msecpath\u001b[0m \u001b[0;34m=\u001b[0m \u001b[0mdataroot\u001b[0m \u001b[0;34m+\u001b[0m \u001b[0;34m'AlexNet_feature_maps_test'\u001b[0m\u001b[0;34m+\u001b[0m \u001b[0mstr\u001b[0m\u001b[0;34m(\u001b[0m\u001b[0mseg\u001b[0m\u001b[0;34m)\u001b[0m\u001b[0;34m+\u001b[0m\u001b[0;34m'.h5'\u001b[0m\u001b[0;34m\u001b[0m\u001b[0m\n\u001b[0m\u001b[1;32m      3\u001b[0m \u001b[0;34m\u001b[0m\u001b[0m\n\u001b[1;32m      4\u001b[0m     \u001b[0;32mfor\u001b[0m \u001b[0mlay\u001b[0m \u001b[0;32min\u001b[0m \u001b[0mrange\u001b[0m\u001b[0;34m(\u001b[0m\u001b[0;36m0\u001b[0m\u001b[0;34m,\u001b[0m\u001b[0mlen\u001b[0m\u001b[0;34m(\u001b[0m\u001b[0mlayername\u001b[0m\u001b[0;34m)\u001b[0m\u001b[0;34m)\u001b[0m\u001b[0;34m:\u001b[0m\u001b[0;34m\u001b[0m\u001b[0m\n\u001b[1;32m      5\u001b[0m         \u001b[0mprint\u001b[0m\u001b[0;34m(\u001b[0m\u001b[0;34m'Test: '\u001b[0m\u001b[0;34m,\u001b[0m  \u001b[0mstr\u001b[0m\u001b[0;34m(\u001b[0m\u001b[0mtest\u001b[0m\u001b[0;34m)\u001b[0m \u001b[0;34m,\u001b[0m \u001b[0;34m'; Layer: '\u001b[0m\u001b[0;34m,\u001b[0m\u001b[0mlayername\u001b[0m\u001b[0;34m(\u001b[0m\u001b[0mlay\u001b[0m\u001b[0;34m)\u001b[0m\u001b[0;34m)\u001b[0m\u001b[0;34m\u001b[0m\u001b[0m\n",
      "\u001b[0;31mNameError\u001b[0m: name 'seg' is not defined"
     ]
    }
   ],
   "source": [
    "for test in range(1,5):\n",
    "    secpath = dataroot + 'AlexNet_feature_maps_test'+ str(seg)+'.h5'\n",
    "\n",
    "    for lay in range(0,len(layername)):\n",
    "        print('Test: ',  str(test) , '; Layer: ',layername(lay))\n",
    "        lay_feat = h5py.File(secpath,'r')\n",
    "        lay_feat = lay_feat.get(layername[lay]+'/data').value\n",
    "        dim = lay_feat.shape\n",
    "        print(dim)\n",
    "        Nu = np.prod(dim[1:])\n",
    "        print(Nu)\n",
    "        Nf = dim[0]\n",
    "        print(Nf)\n",
    "        lay_feat = np.reshape(lay_feat,(Nf,Nu))\n",
    "        print(lay_feat.shape)      \n",
    "        if lay < len(layername):   \n",
    "            lay_feat = np.log10(lay_feat + 0.01)\n",
    "        ts = convolve(poldrack_hrf, lay_feat)\n",
    "        ts = ts[4*srate+1:4*srate+Nf, :]\n",
    "        down_sample_idx = np.arange(srate+1, len(ts), srate*2)\n",
    "        ts = ts[down_sample_idx]\n",
    "        print(\"Down sampled ts: {}\".format(ts.shape))\n",
    "\n",
    "        foldpath = saveroot+'AlexNet_feature_maps_processed_test' + str(test)+'.h5'\n",
    "        store = h5py.File(foldpath + layername(lay)+ '/data' + ts, 'w')"
   ]
  },
  {
   "cell_type": "code",
   "execution_count": 21,
   "metadata": {},
   "outputs": [
    {
     "name": "stdout",
     "output_type": "stream",
     "text": [
      "(14400, 96, 55, 55)\n",
      "290400\n",
      "14400\n",
      "(14400, 290400)\n"
     ]
    }
   ],
   "source": [
    "dim = lay_feat.shape\n",
    "print(dim)\n",
    "Nu = np.prod(dim[1:])\n",
    "print(Nu)\n",
    "Nf = dim[0]\n",
    "print(Nf)\n",
    "\n",
    "lay_feat = np.reshape(lay_feat,(Nf,Nu))\n",
    "print(lay_feat.shape)"
   ]
  },
  {
   "cell_type": "markdown",
   "metadata": {},
   "source": [
    "# Convolution"
   ]
  },
  {
   "cell_type": "code",
   "execution_count": 27,
   "metadata": {},
   "outputs": [],
   "source": [
    "from scipy.signal import convolve2d\n",
    "ts = convolve2d(poldrack_hrf, lay_feat[:10])"
   ]
  },
  {
   "cell_type": "code",
   "execution_count": null,
   "metadata": {},
   "outputs": [],
   "source": [
    "print(ts.shape)"
   ]
  },
  {
   "cell_type": "code",
   "execution_count": null,
   "metadata": {},
   "outputs": [],
   "source": [
    "ts = ts[4*srate:4*srate+Nf, :]"
   ]
  },
  {
   "cell_type": "code",
   "execution_count": 25,
   "metadata": {},
   "outputs": [
    {
     "data": {
      "text/plain": [
       "(240,)"
      ]
     },
     "execution_count": 25,
     "metadata": {},
     "output_type": "execute_result"
    }
   ],
   "source": [
    "down_sample_idx = np.arange(srate+1, len(ts), srate*2)\n",
    "ts = ts[down_sample_idx]"
   ]
  },
  {
   "cell_type": "code",
   "execution_count": null,
   "metadata": {},
   "outputs": [],
   "source": [
    "print(ts)"
   ]
  },
  {
   "cell_type": "markdown",
   "metadata": {},
   "source": [
    "# Check_data_load_.h5file"
   ]
  },
  {
   "cell_type": "code",
   "execution_count": 9,
   "metadata": {},
   "outputs": [
    {
     "name": "stdout",
     "output_type": "stream",
     "text": [
      "<KeysViewHDF5 ['conv1', 'conv2', 'conv3', 'conv4', 'conv5', 'fc6', 'fc7', 'fc8']>\n"
     ]
    },
    {
     "name": "stderr",
     "output_type": "stream",
     "text": [
      "/home/jmlee/.conda/envs/encoding/lib/python3.7/site-packages/ipykernel_launcher.py:3: H5pyDeprecationWarning: dataset.value has been deprecated. Use dataset[()] instead.\n",
      "  This is separate from the ipykernel package so we can avoid doing imports until\n"
     ]
    }
   ],
   "source": [
    "featuremap = h5py.File('./stimuli2/AlexNet_feature_maps_seg1.h5','r')\n",
    "print(featuremap.keys())\n",
    "featuremap_val = featuremap.get('/conv1/data').value\n"
   ]
  },
  {
   "cell_type": "code",
   "execution_count": 11,
   "metadata": {},
   "outputs": [],
   "source": [
    "featuremap_val= featuremap_val.flatten()"
   ]
  },
  {
   "cell_type": "code",
   "execution_count": 10,
   "metadata": {},
   "outputs": [
    {
     "data": {
      "text/plain": [
       "(14400, 96, 55, 55)"
      ]
     },
     "execution_count": 10,
     "metadata": {},
     "output_type": "execute_result"
    }
   ],
   "source": [
    "featuremap_val.shape"
   ]
  },
  {
   "cell_type": "code",
   "execution_count": 82,
   "metadata": {},
   "outputs": [
    {
     "data": {
      "text/plain": [
       "(4181760000,)"
      ]
     },
     "execution_count": 82,
     "metadata": {},
     "output_type": "execute_result"
    }
   ],
   "source": [
    "lay_file.shape"
   ]
  },
  {
   "cell_type": "code",
   "execution_count": 83,
   "metadata": {},
   "outputs": [],
   "source": [
    "corr = np.corrcoef(lay_feat,lay_file)"
   ]
  },
  {
   "cell_type": "code",
   "execution_count": 84,
   "metadata": {},
   "outputs": [
    {
     "data": {
      "text/plain": [
       "array([0.])"
      ]
     },
     "execution_count": 84,
     "metadata": {},
     "output_type": "execute_result"
    }
   ],
   "source": [
    "corr"
   ]
  },
  {
   "cell_type": "code",
   "execution_count": 46,
   "metadata": {},
   "outputs": [
    {
     "name": "stderr",
     "output_type": "stream",
     "text": [
      "/home/jmlee/.conda/envs/encoding/lib/python3.7/site-packages/ipykernel_launcher.py:3: H5pyDeprecationWarning: dataset.value has been deprecated. Use dataset[()] instead.\n",
      "  This is separate from the ipykernel package so we can avoid doing imports until\n"
     ]
    }
   ],
   "source": [
    "alex_file = h5py.File('./frames/AlexNet_feature_maps_seg1.h5','r')\n",
    "alex_file.keys()\n",
    "alex_file = alex_file.get('/conv1/data').value\n"
   ]
  },
  {
   "cell_type": "code",
   "execution_count": 50,
   "metadata": {},
   "outputs": [
    {
     "data": {
      "text/plain": [
       "array([[[5.3406e+01, 0.0000e+00, 0.0000e+00, ..., 0.0000e+00,\n",
       "         8.8047e+00, 0.0000e+00],\n",
       "        [1.5695e+01, 2.9863e+00, 0.0000e+00, ..., 0.0000e+00,\n",
       "         0.0000e+00, 2.5371e+00],\n",
       "        [0.0000e+00, 4.0406e+01, 0.0000e+00, ..., 0.0000e+00,\n",
       "         0.0000e+00, 8.5312e+00],\n",
       "        ...,\n",
       "        [1.0953e+01, 0.0000e+00, 4.8031e+01, ..., 3.7094e+01,\n",
       "         9.5947e-01, 0.0000e+00],\n",
       "        [8.4375e+00, 0.0000e+00, 3.0078e+01, ..., 9.5000e+01,\n",
       "         0.0000e+00, 3.6602e+00],\n",
       "        [1.3016e+01, 2.9844e+00, 1.8953e+01, ..., 4.7156e+01,\n",
       "         0.0000e+00, 2.5732e-01]],\n",
       "\n",
       "       [[0.0000e+00, 0.0000e+00, 1.4625e+02, ..., 0.0000e+00,\n",
       "         0.0000e+00, 0.0000e+00],\n",
       "        [1.0310e+03, 0.0000e+00, 0.0000e+00, ..., 0.0000e+00,\n",
       "         0.0000e+00, 0.0000e+00],\n",
       "        [1.2694e+02, 0.0000e+00, 0.0000e+00, ..., 0.0000e+00,\n",
       "         3.7719e+01, 9.4438e+01],\n",
       "        ...,\n",
       "        [8.2891e+00, 0.0000e+00, 1.4746e+00, ..., 0.0000e+00,\n",
       "         3.6600e+02, 2.8225e+02],\n",
       "        [0.0000e+00, 0.0000e+00, 1.0906e+02, ..., 7.1250e+02,\n",
       "         3.0750e+02, 0.0000e+00],\n",
       "        [8.7188e+00, 0.0000e+00, 0.0000e+00, ..., 0.0000e+00,\n",
       "         0.0000e+00, 0.0000e+00]],\n",
       "\n",
       "       [[0.0000e+00, 0.0000e+00, 0.0000e+00, ..., 0.0000e+00,\n",
       "         0.0000e+00, 0.0000e+00],\n",
       "        [0.0000e+00, 7.4875e+01, 8.7438e+01, ..., 0.0000e+00,\n",
       "         1.2789e+01, 2.1203e+01],\n",
       "        [9.1750e+01, 1.1469e+02, 0.0000e+00, ..., 5.8750e+01,\n",
       "         3.5844e+01, 0.0000e+00],\n",
       "        ...,\n",
       "        [1.0953e+01, 4.4594e+01, 0.0000e+00, ..., 5.5969e+01,\n",
       "         0.0000e+00, 0.0000e+00],\n",
       "        [1.6234e+01, 6.6758e+00, 0.0000e+00, ..., 0.0000e+00,\n",
       "         0.0000e+00, 5.6312e+01],\n",
       "        [4.9844e+00, 1.7281e+01, 1.3727e+01, ..., 0.0000e+00,\n",
       "         1.2344e+02, 1.2148e+01]],\n",
       "\n",
       "       ...,\n",
       "\n",
       "       [[2.0150e+02, 2.1712e+02, 1.0169e+02, ..., 1.0331e+02,\n",
       "         9.5750e+01, 6.7438e+01],\n",
       "        [0.0000e+00, 0.0000e+00, 0.0000e+00, ..., 0.0000e+00,\n",
       "         0.0000e+00, 0.0000e+00],\n",
       "        [0.0000e+00, 4.3906e+00, 4.1797e+00, ..., 0.0000e+00,\n",
       "         0.0000e+00, 4.4336e+00],\n",
       "        ...,\n",
       "        [7.7227e+00, 0.0000e+00, 7.8867e+00, ..., 0.0000e+00,\n",
       "         3.0734e+01, 5.0875e+01],\n",
       "        [4.3164e+00, 1.5789e+01, 0.0000e+00, ..., 2.0538e+02,\n",
       "         7.4125e+01, 0.0000e+00],\n",
       "        [0.0000e+00, 0.0000e+00, 0.0000e+00, ..., 0.0000e+00,\n",
       "         0.0000e+00, 1.0914e+01]],\n",
       "\n",
       "       [[2.1962e+02, 5.0156e+01, 0.0000e+00, ..., 4.2773e+00,\n",
       "         4.2266e+00, 1.8172e+01],\n",
       "        [6.4062e+01, 9.7969e+00, 0.0000e+00, ..., 0.0000e+00,\n",
       "         0.0000e+00, 2.6391e+01],\n",
       "        [3.2781e+01, 1.4712e+02, 6.2906e+01, ..., 0.0000e+00,\n",
       "         1.0359e+01, 4.3125e+01],\n",
       "        ...,\n",
       "        [0.0000e+00, 2.0453e+01, 9.2125e+01, ..., 8.4688e+01,\n",
       "         7.4658e-01, 0.0000e+00],\n",
       "        [0.0000e+00, 2.8672e+01, 7.2250e+01, ..., 1.9250e+01,\n",
       "         0.0000e+00, 0.0000e+00],\n",
       "        [0.0000e+00, 2.4250e+01, 7.5500e+01, ..., 0.0000e+00,\n",
       "         0.0000e+00, 0.0000e+00]],\n",
       "\n",
       "       [[0.0000e+00, 0.0000e+00, 8.0938e+01, ..., 9.9805e-01,\n",
       "         0.0000e+00, 0.0000e+00],\n",
       "        [0.0000e+00, 0.0000e+00, 1.4188e+01, ..., 0.0000e+00,\n",
       "         0.0000e+00, 0.0000e+00],\n",
       "        [0.0000e+00, 0.0000e+00, 0.0000e+00, ..., 0.0000e+00,\n",
       "         0.0000e+00, 0.0000e+00],\n",
       "        ...,\n",
       "        [4.0000e+01, 0.0000e+00, 0.0000e+00, ..., 0.0000e+00,\n",
       "         7.8125e+01, 2.6578e+01],\n",
       "        [2.8781e+01, 0.0000e+00, 0.0000e+00, ..., 2.4922e+01,\n",
       "         8.3375e+01, 1.7422e+01],\n",
       "        [2.3562e+01, 0.0000e+00, 0.0000e+00, ..., 3.3312e+01,\n",
       "         4.6188e+01, 0.0000e+00]]], dtype=float16)"
      ]
     },
     "execution_count": 50,
     "metadata": {},
     "output_type": "execute_result"
    }
   ],
   "source": [
    "alex_file[1]"
   ]
  },
  {
   "cell_type": "code",
   "execution_count": 51,
   "metadata": {},
   "outputs": [
    {
     "data": {
      "text/plain": [
       "0.0"
      ]
     },
     "execution_count": 51,
     "metadata": {},
     "output_type": "execute_result"
    }
   ],
   "source": [
    "np.min(alex_file)"
   ]
  },
  {
   "cell_type": "code",
   "execution_count": 22,
   "metadata": {},
   "outputs": [
    {
     "name": "stdout",
     "output_type": "stream",
     "text": [
      "(960, 1)\n"
     ]
    },
    {
     "name": "stderr",
     "output_type": "stream",
     "text": [
      "/home/jmlee/.conda/envs/encoding/lib/python3.7/site-packages/ipykernel_launcher.py:1: RuntimeWarning: divide by zero encountered in log10\n",
      "  \"\"\"Entry point for launching an IPython kernel.\n"
     ]
    }
   ],
   "source": [
    "lay_feat = np.log10(lay_feat)\n",
    "poldrack_hrf = np.expand_dims(poldrack_hrf, -1)\n",
    "print(poldrack_hrf.shape)"
   ]
  }
 ],
 "metadata": {
  "interpreter": {
   "hash": "e5dd3353f92ef7bf5a9ab1afe39a0a052fbc7416b62b53b2960209cd1d8a595e"
  },
  "kernelspec": {
   "display_name": "Python 3.7.0 ('encoding')",
   "language": "python",
   "name": "python3"
  },
  "language_info": {
   "codemirror_mode": {
    "name": "ipython",
    "version": 3
   },
   "file_extension": ".py",
   "mimetype": "text/x-python",
   "name": "python",
   "nbconvert_exporter": "python",
   "pygments_lexer": "ipython3",
   "version": "3.7.0"
  },
  "orig_nbformat": 4
 },
 "nbformat": 4,
 "nbformat_minor": 2
}
